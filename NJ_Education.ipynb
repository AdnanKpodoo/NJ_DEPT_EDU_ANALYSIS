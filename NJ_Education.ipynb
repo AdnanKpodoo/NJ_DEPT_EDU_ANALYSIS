{
 "cells": [
  {
   "cell_type": "code",
   "execution_count": 148,
   "metadata": {},
   "outputs": [],
   "source": [
    "import pandas as pd\n",
    "import numpy as np\n",
    "import seaborn as sb\n",
    "import matplotlib.pyplot as plt "
   ]
  },
  {
   "cell_type": "code",
   "execution_count": 149,
   "metadata": {},
   "outputs": [],
   "source": [
    "df_funding = pd.read_csv('FundingDetails23.csv', encoding='UTF-8-SIG')\n",
    "df_funding.columns = [c.strip() for c in df_funding.columns]\n",
    "df_test = pd.read_csv('StateTestPerformance.csv')\n",
    "df_ela = pd.read_csv('ELAPerformance_Trends.csv')\n",
    "df_math = pd.read_csv('MP_TRENDS.csv')\n",
    "df_grad = pd.read_csv('GRADRATE_TREND.csv')\n",
    "df_fedgrad = pd.read_csv('FedGradRates.csv')\n",
    "df_police_rep = pd.read_csv('PoliceR.csv')"
   ]
  },
  {
   "cell_type": "code",
   "execution_count": 150,
   "metadata": {},
   "outputs": [
    {
     "data": {
      "text/html": [
       "<div>\n",
       "<style scoped>\n",
       "    .dataframe tbody tr th:only-of-type {\n",
       "        vertical-align: middle;\n",
       "    }\n",
       "\n",
       "    .dataframe tbody tr th {\n",
       "        vertical-align: top;\n",
       "    }\n",
       "\n",
       "    .dataframe thead th {\n",
       "        text-align: right;\n",
       "    }\n",
       "</style>\n",
       "<table border=\"1\" class=\"dataframe\">\n",
       "  <thead>\n",
       "    <tr style=\"text-align: right;\">\n",
       "      <th></th>\n",
       "      <th>CountyCode</th>\n",
       "      <th>CountyName</th>\n",
       "      <th>DistrictCode</th>\n",
       "      <th>DistrictName</th>\n",
       "      <th>SchoolYear</th>\n",
       "      <th>Grades/Subject</th>\n",
       "      <th>% Met/Exceeded Expectation</th>\n",
       "    </tr>\n",
       "  </thead>\n",
       "  <tbody>\n",
       "    <tr>\n",
       "      <th>0</th>\n",
       "      <td>1</td>\n",
       "      <td>Atlantic</td>\n",
       "      <td>10</td>\n",
       "      <td>Absecon Public Schools District</td>\n",
       "      <td>2022-2023</td>\n",
       "      <td>Algebra I</td>\n",
       "      <td>100</td>\n",
       "    </tr>\n",
       "    <tr>\n",
       "      <th>1</th>\n",
       "      <td>1</td>\n",
       "      <td>Atlantic</td>\n",
       "      <td>10</td>\n",
       "      <td>Absecon Public Schools District</td>\n",
       "      <td>2022-2023</td>\n",
       "      <td>Geometry</td>\n",
       "      <td>N</td>\n",
       "    </tr>\n",
       "    <tr>\n",
       "      <th>2</th>\n",
       "      <td>1</td>\n",
       "      <td>Atlantic</td>\n",
       "      <td>10</td>\n",
       "      <td>Absecon Public Schools District</td>\n",
       "      <td>2022-2023</td>\n",
       "      <td>Grade 03</td>\n",
       "      <td>39.7</td>\n",
       "    </tr>\n",
       "    <tr>\n",
       "      <th>3</th>\n",
       "      <td>1</td>\n",
       "      <td>Atlantic</td>\n",
       "      <td>10</td>\n",
       "      <td>Absecon Public Schools District</td>\n",
       "      <td>2022-2023</td>\n",
       "      <td>Grade 04</td>\n",
       "      <td>34.7</td>\n",
       "    </tr>\n",
       "    <tr>\n",
       "      <th>4</th>\n",
       "      <td>1</td>\n",
       "      <td>Atlantic</td>\n",
       "      <td>10</td>\n",
       "      <td>Absecon Public Schools District</td>\n",
       "      <td>2022-2023</td>\n",
       "      <td>Grade 05</td>\n",
       "      <td>29</td>\n",
       "    </tr>\n",
       "  </tbody>\n",
       "</table>\n",
       "</div>"
      ],
      "text/plain": [
       "   CountyCode CountyName  DistrictCode                     DistrictName  \\\n",
       "0           1   Atlantic            10  Absecon Public Schools District   \n",
       "1           1   Atlantic            10  Absecon Public Schools District   \n",
       "2           1   Atlantic            10  Absecon Public Schools District   \n",
       "3           1   Atlantic            10  Absecon Public Schools District   \n",
       "4           1   Atlantic            10  Absecon Public Schools District   \n",
       "\n",
       "  SchoolYear Grades/Subject % Met/Exceeded Expectation  \n",
       "0  2022-2023      Algebra I                        100  \n",
       "1  2022-2023       Geometry                          N  \n",
       "2  2022-2023       Grade 03                       39.7  \n",
       "3  2022-2023       Grade 04                       34.7  \n",
       "4  2022-2023       Grade 05                         29  "
      ]
     },
     "execution_count": 150,
     "metadata": {},
     "output_type": "execute_result"
    }
   ],
   "source": [
    "df_math.head()"
   ]
  },
  {
   "cell_type": "code",
   "execution_count": 151,
   "metadata": {},
   "outputs": [
    {
     "data": {
      "text/html": [
       "<div>\n",
       "<style scoped>\n",
       "    .dataframe tbody tr th:only-of-type {\n",
       "        vertical-align: middle;\n",
       "    }\n",
       "\n",
       "    .dataframe tbody tr th {\n",
       "        vertical-align: top;\n",
       "    }\n",
       "\n",
       "    .dataframe thead th {\n",
       "        text-align: right;\n",
       "    }\n",
       "</style>\n",
       "<table border=\"1\" class=\"dataframe\">\n",
       "  <thead>\n",
       "    <tr style=\"text-align: right;\">\n",
       "      <th></th>\n",
       "      <th>CountyCode</th>\n",
       "      <th>CountyName</th>\n",
       "      <th>DistrictCode</th>\n",
       "      <th>DistrictName</th>\n",
       "      <th>Test</th>\n",
       "      <th>Subject</th>\n",
       "      <th>District_Avg</th>\n",
       "      <th>State_avg</th>\n",
       "      <th>Benchmark</th>\n",
       "      <th>BT_PCT</th>\n",
       "      <th>STATE_BT_PCT</th>\n",
       "    </tr>\n",
       "  </thead>\n",
       "  <tbody>\n",
       "    <tr>\n",
       "      <th>0</th>\n",
       "      <td>1</td>\n",
       "      <td>Atlantic</td>\n",
       "      <td>110</td>\n",
       "      <td>Atlantic City School District</td>\n",
       "      <td>ACT</td>\n",
       "      <td>Science</td>\n",
       "      <td>20</td>\n",
       "      <td>24</td>\n",
       "      <td>23</td>\n",
       "      <td>31</td>\n",
       "      <td>59</td>\n",
       "    </tr>\n",
       "    <tr>\n",
       "      <th>1</th>\n",
       "      <td>1</td>\n",
       "      <td>Atlantic</td>\n",
       "      <td>110</td>\n",
       "      <td>Atlantic City School District</td>\n",
       "      <td>ACT</td>\n",
       "      <td>Math</td>\n",
       "      <td>21</td>\n",
       "      <td>24</td>\n",
       "      <td>22</td>\n",
       "      <td>46</td>\n",
       "      <td>63</td>\n",
       "    </tr>\n",
       "    <tr>\n",
       "      <th>2</th>\n",
       "      <td>1</td>\n",
       "      <td>Atlantic</td>\n",
       "      <td>110</td>\n",
       "      <td>Atlantic City School District</td>\n",
       "      <td>ACT</td>\n",
       "      <td>English</td>\n",
       "      <td>21</td>\n",
       "      <td>24</td>\n",
       "      <td>18</td>\n",
       "      <td>62</td>\n",
       "      <td>80</td>\n",
       "    </tr>\n",
       "    <tr>\n",
       "      <th>3</th>\n",
       "      <td>1</td>\n",
       "      <td>Atlantic</td>\n",
       "      <td>110</td>\n",
       "      <td>Atlantic City School District</td>\n",
       "      <td>ACT</td>\n",
       "      <td>Reading</td>\n",
       "      <td>22</td>\n",
       "      <td>25</td>\n",
       "      <td>22</td>\n",
       "      <td>46</td>\n",
       "      <td>66</td>\n",
       "    </tr>\n",
       "    <tr>\n",
       "      <th>4</th>\n",
       "      <td>1</td>\n",
       "      <td>Atlantic</td>\n",
       "      <td>110</td>\n",
       "      <td>Atlantic City School District</td>\n",
       "      <td>PSAT</td>\n",
       "      <td>Reading and Writing</td>\n",
       "      <td>403</td>\n",
       "      <td>466</td>\n",
       "      <td>Grade 10: 430 Grade 11: 460</td>\n",
       "      <td>33</td>\n",
       "      <td>56</td>\n",
       "    </tr>\n",
       "  </tbody>\n",
       "</table>\n",
       "</div>"
      ],
      "text/plain": [
       "   CountyCode CountyName  DistrictCode                   DistrictName  Test  \\\n",
       "0           1   Atlantic           110  Atlantic City School District   ACT   \n",
       "1           1   Atlantic           110  Atlantic City School District   ACT   \n",
       "2           1   Atlantic           110  Atlantic City School District   ACT   \n",
       "3           1   Atlantic           110  Atlantic City School District   ACT   \n",
       "4           1   Atlantic           110  Atlantic City School District  PSAT   \n",
       "\n",
       "               Subject District_Avg  State_avg                    Benchmark  \\\n",
       "0              Science           20         24                           23   \n",
       "1                 Math           21         24                           22   \n",
       "2              English           21         24                           18   \n",
       "3              Reading           22         25                           22   \n",
       "4  Reading and Writing          403        466  Grade 10: 430 Grade 11: 460   \n",
       "\n",
       "  BT_PCT  STATE_BT_PCT  \n",
       "0     31            59  \n",
       "1     46            63  \n",
       "2     62            80  \n",
       "3     46            66  \n",
       "4     33            56  "
      ]
     },
     "execution_count": 151,
     "metadata": {},
     "output_type": "execute_result"
    }
   ],
   "source": [
    "df_test.head(5)"
   ]
  },
  {
   "cell_type": "code",
   "execution_count": 152,
   "metadata": {},
   "outputs": [
    {
     "data": {
      "text/html": [
       "<div>\n",
       "<style scoped>\n",
       "    .dataframe tbody tr th:only-of-type {\n",
       "        vertical-align: middle;\n",
       "    }\n",
       "\n",
       "    .dataframe tbody tr th {\n",
       "        vertical-align: top;\n",
       "    }\n",
       "\n",
       "    .dataframe thead th {\n",
       "        text-align: right;\n",
       "    }\n",
       "</style>\n",
       "<table border=\"1\" class=\"dataframe\">\n",
       "  <thead>\n",
       "    <tr style=\"text-align: right;\">\n",
       "      <th></th>\n",
       "      <th>CountyCode</th>\n",
       "      <th>CountyName</th>\n",
       "      <th>DistrictCode</th>\n",
       "      <th>DistrictName</th>\n",
       "      <th>SchoolYear</th>\n",
       "      <th>Grades</th>\n",
       "      <th>% Met/Exceeded Expectation</th>\n",
       "    </tr>\n",
       "  </thead>\n",
       "  <tbody>\n",
       "    <tr>\n",
       "      <th>0</th>\n",
       "      <td>1</td>\n",
       "      <td>Atlantic</td>\n",
       "      <td>10</td>\n",
       "      <td>Absecon Public Schools District</td>\n",
       "      <td>2022-2023</td>\n",
       "      <td>Grade 03</td>\n",
       "      <td>43.6</td>\n",
       "    </tr>\n",
       "    <tr>\n",
       "      <th>1</th>\n",
       "      <td>1</td>\n",
       "      <td>Atlantic</td>\n",
       "      <td>10</td>\n",
       "      <td>Absecon Public Schools District</td>\n",
       "      <td>2022-2023</td>\n",
       "      <td>Grade 04</td>\n",
       "      <td>45.3</td>\n",
       "    </tr>\n",
       "    <tr>\n",
       "      <th>2</th>\n",
       "      <td>1</td>\n",
       "      <td>Atlantic</td>\n",
       "      <td>10</td>\n",
       "      <td>Absecon Public Schools District</td>\n",
       "      <td>2022-2023</td>\n",
       "      <td>Grade 05</td>\n",
       "      <td>43.4</td>\n",
       "    </tr>\n",
       "    <tr>\n",
       "      <th>3</th>\n",
       "      <td>1</td>\n",
       "      <td>Atlantic</td>\n",
       "      <td>10</td>\n",
       "      <td>Absecon Public Schools District</td>\n",
       "      <td>2022-2023</td>\n",
       "      <td>Grade 06</td>\n",
       "      <td>48.5</td>\n",
       "    </tr>\n",
       "    <tr>\n",
       "      <th>4</th>\n",
       "      <td>1</td>\n",
       "      <td>Atlantic</td>\n",
       "      <td>10</td>\n",
       "      <td>Absecon Public Schools District</td>\n",
       "      <td>2022-2023</td>\n",
       "      <td>Grade 07</td>\n",
       "      <td>54.5</td>\n",
       "    </tr>\n",
       "  </tbody>\n",
       "</table>\n",
       "</div>"
      ],
      "text/plain": [
       "   CountyCode CountyName  DistrictCode                     DistrictName  \\\n",
       "0           1   Atlantic            10  Absecon Public Schools District   \n",
       "1           1   Atlantic            10  Absecon Public Schools District   \n",
       "2           1   Atlantic            10  Absecon Public Schools District   \n",
       "3           1   Atlantic            10  Absecon Public Schools District   \n",
       "4           1   Atlantic            10  Absecon Public Schools District   \n",
       "\n",
       "  SchoolYear    Grades % Met/Exceeded Expectation  \n",
       "0  2022-2023  Grade 03                       43.6  \n",
       "1  2022-2023  Grade 04                       45.3  \n",
       "2  2022-2023  Grade 05                       43.4  \n",
       "3  2022-2023  Grade 06                       48.5  \n",
       "4  2022-2023  Grade 07                       54.5  "
      ]
     },
     "execution_count": 152,
     "metadata": {},
     "output_type": "execute_result"
    }
   ],
   "source": [
    "df_ela.head(5)"
   ]
  },
  {
   "cell_type": "code",
   "execution_count": 153,
   "metadata": {},
   "outputs": [
    {
     "data": {
      "text/html": [
       "<div>\n",
       "<style scoped>\n",
       "    .dataframe tbody tr th:only-of-type {\n",
       "        vertical-align: middle;\n",
       "    }\n",
       "\n",
       "    .dataframe tbody tr th {\n",
       "        vertical-align: top;\n",
       "    }\n",
       "\n",
       "    .dataframe thead th {\n",
       "        text-align: right;\n",
       "    }\n",
       "</style>\n",
       "<table border=\"1\" class=\"dataframe\">\n",
       "  <thead>\n",
       "    <tr style=\"text-align: right;\">\n",
       "      <th></th>\n",
       "      <th>CountyCode</th>\n",
       "      <th>CountyName</th>\n",
       "      <th>DistrictCode</th>\n",
       "      <th>DistrictName</th>\n",
       "      <th>CohortYear</th>\n",
       "      <th>GraduationRateType</th>\n",
       "      <th>GraduationRate</th>\n",
       "      <th>StatewideGraduationRate</th>\n",
       "    </tr>\n",
       "  </thead>\n",
       "  <tbody>\n",
       "    <tr>\n",
       "      <th>0</th>\n",
       "      <td>1</td>\n",
       "      <td>Atlantic</td>\n",
       "      <td>110</td>\n",
       "      <td>Atlantic City School District</td>\n",
       "      <td>2020</td>\n",
       "      <td>5-Year Rate</td>\n",
       "      <td>82.1</td>\n",
       "      <td>92.6</td>\n",
       "    </tr>\n",
       "    <tr>\n",
       "      <th>1</th>\n",
       "      <td>1</td>\n",
       "      <td>Atlantic</td>\n",
       "      <td>110</td>\n",
       "      <td>Atlantic City School District</td>\n",
       "      <td>2021</td>\n",
       "      <td>5-Year Rate</td>\n",
       "      <td>82.7</td>\n",
       "      <td>92.5</td>\n",
       "    </tr>\n",
       "    <tr>\n",
       "      <th>2</th>\n",
       "      <td>1</td>\n",
       "      <td>Atlantic</td>\n",
       "      <td>110</td>\n",
       "      <td>Atlantic City School District</td>\n",
       "      <td>2021</td>\n",
       "      <td>4-Year Rate</td>\n",
       "      <td>80.6</td>\n",
       "      <td>90.6</td>\n",
       "    </tr>\n",
       "    <tr>\n",
       "      <th>3</th>\n",
       "      <td>1</td>\n",
       "      <td>Atlantic</td>\n",
       "      <td>110</td>\n",
       "      <td>Atlantic City School District</td>\n",
       "      <td>2022</td>\n",
       "      <td>5-Year Rate</td>\n",
       "      <td>79.5</td>\n",
       "      <td>92.7</td>\n",
       "    </tr>\n",
       "    <tr>\n",
       "      <th>4</th>\n",
       "      <td>1</td>\n",
       "      <td>Atlantic</td>\n",
       "      <td>110</td>\n",
       "      <td>Atlantic City School District</td>\n",
       "      <td>2022</td>\n",
       "      <td>4-Year Rate</td>\n",
       "      <td>76.6</td>\n",
       "      <td>90.9</td>\n",
       "    </tr>\n",
       "  </tbody>\n",
       "</table>\n",
       "</div>"
      ],
      "text/plain": [
       "   CountyCode CountyName  DistrictCode                   DistrictName  \\\n",
       "0           1   Atlantic           110  Atlantic City School District   \n",
       "1           1   Atlantic           110  Atlantic City School District   \n",
       "2           1   Atlantic           110  Atlantic City School District   \n",
       "3           1   Atlantic           110  Atlantic City School District   \n",
       "4           1   Atlantic           110  Atlantic City School District   \n",
       "\n",
       "   CohortYear GraduationRateType GraduationRate  StatewideGraduationRate  \n",
       "0        2020        5-Year Rate           82.1                     92.6  \n",
       "1        2021        5-Year Rate           82.7                     92.5  \n",
       "2        2021        4-Year Rate           80.6                     90.6  \n",
       "3        2022        5-Year Rate           79.5                     92.7  \n",
       "4        2022        4-Year Rate           76.6                     90.9  "
      ]
     },
     "execution_count": 153,
     "metadata": {},
     "output_type": "execute_result"
    }
   ],
   "source": [
    "df_grad.head()"
   ]
  },
  {
   "cell_type": "code",
   "execution_count": 154,
   "metadata": {},
   "outputs": [
    {
     "name": "stdout",
     "output_type": "stream",
     "text": [
      "<class 'pandas.core.frame.DataFrame'>\n",
      "RangeIndex: 2552 entries, 0 to 2551\n",
      "Data columns (total 11 columns):\n",
      " #   Column        Non-Null Count  Dtype \n",
      "---  ------        --------------  ----- \n",
      " 0   CountyCode    2552 non-null   int64 \n",
      " 1   CountyName    2552 non-null   object\n",
      " 2   DistrictCode  2552 non-null   int64 \n",
      " 3   DistrictName  2552 non-null   object\n",
      " 4   Test          2552 non-null   object\n",
      " 5   Subject       2552 non-null   object\n",
      " 6   District_Avg  2552 non-null   object\n",
      " 7   State_avg     2552 non-null   int64 \n",
      " 8   Benchmark     2552 non-null   object\n",
      " 9   BT_PCT        2552 non-null   object\n",
      " 10  STATE_BT_PCT  2552 non-null   int64 \n",
      "dtypes: int64(4), object(7)\n",
      "memory usage: 219.4+ KB\n"
     ]
    }
   ],
   "source": [
    "df_test.info()"
   ]
  },
  {
   "cell_type": "markdown",
   "metadata": {},
   "source": []
  },
  {
   "cell_type": "code",
   "execution_count": 155,
   "metadata": {},
   "outputs": [
    {
     "name": "stdout",
     "output_type": "stream",
     "text": [
      "<class 'pandas.core.frame.DataFrame'>\n",
      "RangeIndex: 1884 entries, 0 to 1883\n",
      "Data columns (total 8 columns):\n",
      " #   Column                   Non-Null Count  Dtype  \n",
      "---  ------                   --------------  -----  \n",
      " 0   CountyCode               1884 non-null   int64  \n",
      " 1   CountyName               1884 non-null   object \n",
      " 2   DistrictCode             1884 non-null   int64  \n",
      " 3   DistrictName             1884 non-null   object \n",
      " 4   CohortYear               1884 non-null   int64  \n",
      " 5   GraduationRateType       1884 non-null   object \n",
      " 6   GraduationRate           1884 non-null   object \n",
      " 7   StatewideGraduationRate  1884 non-null   float64\n",
      "dtypes: float64(1), int64(3), object(4)\n",
      "memory usage: 117.9+ KB\n"
     ]
    }
   ],
   "source": [
    "df_grad.info()"
   ]
  },
  {
   "cell_type": "code",
   "execution_count": 156,
   "metadata": {},
   "outputs": [
    {
     "name": "stdout",
     "output_type": "stream",
     "text": [
      "Funding Nulls:\n",
      " CountyName                              0\n",
      "DistrictCode                            0\n",
      "DistrictName                            0\n",
      "FY22                                    0\n",
      "Equalization_Aid                        0\n",
      "EducationalAdequacy_Aid                 0\n",
      "SchoolChoice_Aid                        0\n",
      "Transportation_Aid                      0\n",
      "SpecialEducation_Aid                    0\n",
      "Security_Aid                            0\n",
      "Adjustment_Aid                          0\n",
      "VocationalExpansionStabilization_Aid    0\n",
      "MilitaryImpact_Aid                      0\n",
      "FY23                                    0\n",
      "FY22_FY23Diff                           0\n",
      "Aid_Percent_Difference                  0\n",
      "dtype: int64\n",
      "\n",
      "Test Performance Nulls:\n",
      " CountyCode      0\n",
      "CountyName      0\n",
      "DistrictCode    0\n",
      "DistrictName    0\n",
      "Test            0\n",
      "Subject         0\n",
      "District_Avg    0\n",
      "State_avg       0\n",
      "Benchmark       0\n",
      "BT_PCT          0\n",
      "STATE_BT_PCT    0\n",
      "dtype: int64\n",
      "Funding Nulls:\n",
      " CountyCode                    0\n",
      "CountyName                    0\n",
      "DistrictCode                  0\n",
      "DistrictName                  0\n",
      "SchoolYear                    0\n",
      "Grades                        0\n",
      "% Met/Exceeded Expectation    0\n",
      "dtype: int64\n",
      "\n",
      "Test Performance Nulls:\n",
      " CountyCode                    0\n",
      "CountyName                    0\n",
      "DistrictCode                  0\n",
      "DistrictName                  0\n",
      "SchoolYear                    0\n",
      "Grades/Subject                0\n",
      "% Met/Exceeded Expectation    0\n",
      "dtype: int64\n",
      "\n",
      "Dropout Nulls:\n",
      " CountyCode                 0\n",
      "CountyName                 0\n",
      "DistrictCode               0\n",
      "DistrictName               0\n",
      "CohortYear                 0\n",
      "GraduationRateType         0\n",
      "GraduationRate             0\n",
      "StatewideGraduationRate    0\n",
      "dtype: int64\n",
      "\n",
      "Dropout Nulls:\n",
      " CountyCode                                    0\n",
      "CountyName                                    0\n",
      "DistrictCode                                  0\n",
      "DistrictName                                  0\n",
      "StudentGroup                                  0\n",
      "2023 4-Year Federal Graduation Rate           0\n",
      "2022 5-Year Federal Graduation Rate           0\n",
      "State: 2023 4-Year Federal Graduation Rate    0\n",
      "State: 2022 5-Year Federal Graduation Rate    0\n",
      "dtype: int64\n"
     ]
    }
   ],
   "source": [
    "print(\"Funding Nulls:\\n\", df_funding.isnull().sum())\n",
    "print(\"\\nTest Performance Nulls:\\n\", df_test.isnull().sum())\n",
    "print(\"Funding Nulls:\\n\", df_ela.isnull().sum())\n",
    "print(\"\\nTest Performance Nulls:\\n\", df_math.isnull().sum())\n",
    "print(\"\\nDropout Nulls:\\n\", df_grad.isnull().sum())\n",
    "print(\"\\nDropout Nulls:\\n\", df_fedgrad.isnull().sum())"
   ]
  },
  {
   "cell_type": "code",
   "execution_count": 157,
   "metadata": {},
   "outputs": [],
   "source": [
    "cols_to_drop = ['CountyCode','DistrictName']\n",
    "\n",
    "for df in [df_funding, df_test, df_ela, df_math, df_grad, df_fedgrad]:\n",
    "    df.drop(columns=cols_to_drop, errors='ignore', inplace=True)"
   ]
  },
  {
   "cell_type": "code",
   "execution_count": 158,
   "metadata": {},
   "outputs": [],
   "source": [
    "# Function to convert all numeric columns to float\n",
    "def convert_to_float(df):\n",
    "    for col in df.columns:\n",
    "        # Check if column is numeric (int or float)\n",
    "        if pd.api.types.is_numeric_dtype(df[col]):\n",
    "            df[col] = df[col].astype(float)\n",
    "    return df\n",
    "\n",
    "# Apply to all DataFrames\n",
    "df_funding = convert_to_float(df_funding)\n",
    "df_test = convert_to_float(df_test)\n",
    "df_ela = convert_to_float(df_ela)\n",
    "df_math = convert_to_float(df_math)\n",
    "df_grad = convert_to_float(df_grad)\n",
    "df_fedgrad = convert_to_float(df_fedgrad)"
   ]
  },
  {
   "cell_type": "code",
   "execution_count": 159,
   "metadata": {},
   "outputs": [
    {
     "name": "stdout",
     "output_type": "stream",
     "text": [
      "<class 'pandas.core.frame.DataFrame'>\n",
      "RangeIndex: 2552 entries, 0 to 2551\n",
      "Data columns (total 9 columns):\n",
      " #   Column        Non-Null Count  Dtype  \n",
      "---  ------        --------------  -----  \n",
      " 0   CountyName    2552 non-null   object \n",
      " 1   DistrictCode  2552 non-null   float64\n",
      " 2   Test          2552 non-null   object \n",
      " 3   Subject       2552 non-null   object \n",
      " 4   District_Avg  2552 non-null   object \n",
      " 5   State_avg     2552 non-null   float64\n",
      " 6   Benchmark     2552 non-null   object \n",
      " 7   BT_PCT        2552 non-null   object \n",
      " 8   STATE_BT_PCT  2552 non-null   float64\n",
      "dtypes: float64(3), object(6)\n",
      "memory usage: 179.6+ KB\n"
     ]
    }
   ],
   "source": [
    "df_test.info()"
   ]
  },
  {
   "cell_type": "code",
   "execution_count": 160,
   "metadata": {},
   "outputs": [],
   "source": [
    "# Fill funding nulls with 0\n",
    "df_funding.fillna(0, inplace=True)\n",
    "\n",
    "# For test scores, fill with district median\n",
    "df_test.fillna(df_test.median(numeric_only=True), inplace=True)"
   ]
  },
  {
   "cell_type": "code",
   "execution_count": 161,
   "metadata": {},
   "outputs": [
    {
     "name": "stdout",
     "output_type": "stream",
     "text": [
      "<class 'pandas.core.frame.DataFrame'>\n",
      "RangeIndex: 2552 entries, 0 to 2551\n",
      "Data columns (total 9 columns):\n",
      " #   Column        Non-Null Count  Dtype  \n",
      "---  ------        --------------  -----  \n",
      " 0   CountyName    2552 non-null   object \n",
      " 1   DistrictCode  2552 non-null   float64\n",
      " 2   Test          2552 non-null   object \n",
      " 3   Subject       2552 non-null   object \n",
      " 4   District_Avg  2552 non-null   object \n",
      " 5   State_avg     2552 non-null   float64\n",
      " 6   Benchmark     2552 non-null   object \n",
      " 7   BT_PCT        2552 non-null   object \n",
      " 8   STATE_BT_PCT  2552 non-null   float64\n",
      "dtypes: float64(3), object(6)\n",
      "memory usage: 179.6+ KB\n"
     ]
    }
   ],
   "source": [
    "df_test.info()"
   ]
  },
  {
   "cell_type": "code",
   "execution_count": 162,
   "metadata": {},
   "outputs": [
    {
     "data": {
      "text/html": [
       "<div>\n",
       "<style scoped>\n",
       "    .dataframe tbody tr th:only-of-type {\n",
       "        vertical-align: middle;\n",
       "    }\n",
       "\n",
       "    .dataframe tbody tr th {\n",
       "        vertical-align: top;\n",
       "    }\n",
       "\n",
       "    .dataframe thead th {\n",
       "        text-align: right;\n",
       "    }\n",
       "</style>\n",
       "<table border=\"1\" class=\"dataframe\">\n",
       "  <thead>\n",
       "    <tr style=\"text-align: right;\">\n",
       "      <th></th>\n",
       "      <th>CountyName</th>\n",
       "      <th>DistrictCode</th>\n",
       "      <th>Test</th>\n",
       "      <th>Subject</th>\n",
       "      <th>District_Avg</th>\n",
       "      <th>State_avg</th>\n",
       "      <th>Benchmark</th>\n",
       "      <th>BT_PCT</th>\n",
       "      <th>STATE_BT_PCT</th>\n",
       "    </tr>\n",
       "  </thead>\n",
       "  <tbody>\n",
       "    <tr>\n",
       "      <th>0</th>\n",
       "      <td>Atlantic</td>\n",
       "      <td>110.0</td>\n",
       "      <td>ACT</td>\n",
       "      <td>Science</td>\n",
       "      <td>20</td>\n",
       "      <td>24.0</td>\n",
       "      <td>23</td>\n",
       "      <td>31</td>\n",
       "      <td>59.0</td>\n",
       "    </tr>\n",
       "    <tr>\n",
       "      <th>1</th>\n",
       "      <td>Atlantic</td>\n",
       "      <td>110.0</td>\n",
       "      <td>ACT</td>\n",
       "      <td>Math</td>\n",
       "      <td>21</td>\n",
       "      <td>24.0</td>\n",
       "      <td>22</td>\n",
       "      <td>46</td>\n",
       "      <td>63.0</td>\n",
       "    </tr>\n",
       "    <tr>\n",
       "      <th>2</th>\n",
       "      <td>Atlantic</td>\n",
       "      <td>110.0</td>\n",
       "      <td>ACT</td>\n",
       "      <td>English</td>\n",
       "      <td>21</td>\n",
       "      <td>24.0</td>\n",
       "      <td>18</td>\n",
       "      <td>62</td>\n",
       "      <td>80.0</td>\n",
       "    </tr>\n",
       "    <tr>\n",
       "      <th>3</th>\n",
       "      <td>Atlantic</td>\n",
       "      <td>110.0</td>\n",
       "      <td>ACT</td>\n",
       "      <td>Reading</td>\n",
       "      <td>22</td>\n",
       "      <td>25.0</td>\n",
       "      <td>22</td>\n",
       "      <td>46</td>\n",
       "      <td>66.0</td>\n",
       "    </tr>\n",
       "    <tr>\n",
       "      <th>4</th>\n",
       "      <td>Atlantic</td>\n",
       "      <td>110.0</td>\n",
       "      <td>PSAT</td>\n",
       "      <td>Reading and Writing</td>\n",
       "      <td>403</td>\n",
       "      <td>466.0</td>\n",
       "      <td>Grade 10: 430 Grade 11: 460</td>\n",
       "      <td>33</td>\n",
       "      <td>56.0</td>\n",
       "    </tr>\n",
       "  </tbody>\n",
       "</table>\n",
       "</div>"
      ],
      "text/plain": [
       "  CountyName  DistrictCode  Test              Subject District_Avg  State_avg  \\\n",
       "0   Atlantic         110.0   ACT              Science           20       24.0   \n",
       "1   Atlantic         110.0   ACT                 Math           21       24.0   \n",
       "2   Atlantic         110.0   ACT              English           21       24.0   \n",
       "3   Atlantic         110.0   ACT              Reading           22       25.0   \n",
       "4   Atlantic         110.0  PSAT  Reading and Writing          403      466.0   \n",
       "\n",
       "                     Benchmark BT_PCT  STATE_BT_PCT  \n",
       "0                           23     31          59.0  \n",
       "1                           22     46          63.0  \n",
       "2                           18     62          80.0  \n",
       "3                           22     46          66.0  \n",
       "4  Grade 10: 430 Grade 11: 460     33          56.0  "
      ]
     },
     "execution_count": 162,
     "metadata": {},
     "output_type": "execute_result"
    }
   ],
   "source": [
    "df_test.head()"
   ]
  },
  {
   "cell_type": "code",
   "execution_count": 163,
   "metadata": {},
   "outputs": [
    {
     "name": "stdout",
     "output_type": "stream",
     "text": [
      "Districts with highest % missing scores:\n",
      "DistrictCode\n",
      "8060.0    0.0\n",
      "100.0     0.0\n",
      "110.0     0.0\n",
      "120.0     0.0\n",
      "150.0     0.0\n",
      "185.0     0.0\n",
      "220.0     0.0\n",
      "250.0     0.0\n",
      "280.0     0.0\n",
      "290.0     0.0\n",
      "300.0     0.0\n",
      "310.0     0.0\n",
      "350.0     0.0\n",
      "390.0     0.0\n",
      "410.0     0.0\n",
      "6101.0    0.0\n",
      "6096.0    0.0\n",
      "6082.0    0.0\n",
      "6081.0    0.0\n",
      "6080.0    0.0\n",
      "Name: District_Avg, dtype: float64\n"
     ]
    }
   ],
   "source": [
    "# Check missing rates by district\n",
    "missing_analysis = df_test.groupby('DistrictCode')['District_Avg'].apply(\n",
    "    lambda x: x.isnull().mean()\n",
    ").sort_values(ascending=False)\n",
    "\n",
    "print(\"Districts with highest % missing scores:\")\n",
    "print(missing_analysis.head(20))"
   ]
  },
  {
   "cell_type": "code",
   "execution_count": 164,
   "metadata": {},
   "outputs": [
    {
     "name": "stdout",
     "output_type": "stream",
     "text": [
      "<class 'pandas.core.frame.DataFrame'>\n",
      "RangeIndex: 577 entries, 0 to 576\n",
      "Data columns (total 15 columns):\n",
      " #   Column                                Non-Null Count  Dtype  \n",
      "---  ------                                --------------  -----  \n",
      " 0   CountyName                            577 non-null    object \n",
      " 1   DistrictCode                          577 non-null    float64\n",
      " 2   FY22                                  577 non-null    object \n",
      " 3   Equalization_Aid                      577 non-null    object \n",
      " 4   EducationalAdequacy_Aid               577 non-null    object \n",
      " 5   SchoolChoice_Aid                      577 non-null    object \n",
      " 6   Transportation_Aid                    577 non-null    object \n",
      " 7   SpecialEducation_Aid                  577 non-null    object \n",
      " 8   Security_Aid                          577 non-null    object \n",
      " 9   Adjustment_Aid                        577 non-null    object \n",
      " 10  VocationalExpansionStabilization_Aid  577 non-null    object \n",
      " 11  MilitaryImpact_Aid                    577 non-null    object \n",
      " 12  FY23                                  577 non-null    object \n",
      " 13  FY22_FY23Diff                         577 non-null    object \n",
      " 14  Aid_Percent_Difference                577 non-null    object \n",
      "dtypes: float64(1), object(14)\n",
      "memory usage: 67.7+ KB\n"
     ]
    }
   ],
   "source": [
    "df_funding.info()"
   ]
  },
  {
   "cell_type": "code",
   "execution_count": 165,
   "metadata": {},
   "outputs": [
    {
     "name": "stdout",
     "output_type": "stream",
     "text": [
      "<class 'pandas.core.frame.DataFrame'>\n",
      "RangeIndex: 2552 entries, 0 to 2551\n",
      "Data columns (total 9 columns):\n",
      " #   Column        Non-Null Count  Dtype  \n",
      "---  ------        --------------  -----  \n",
      " 0   CountyName    2552 non-null   object \n",
      " 1   DistrictCode  2552 non-null   float64\n",
      " 2   Test          2552 non-null   object \n",
      " 3   Subject       2552 non-null   object \n",
      " 4   District_Avg  2552 non-null   object \n",
      " 5   State_avg     2552 non-null   float64\n",
      " 6   Benchmark     2552 non-null   object \n",
      " 7   BT_PCT        2552 non-null   object \n",
      " 8   STATE_BT_PCT  2552 non-null   float64\n",
      "dtypes: float64(3), object(6)\n",
      "memory usage: 179.6+ KB\n"
     ]
    }
   ],
   "source": [
    "df_test.info()"
   ]
  },
  {
   "cell_type": "code",
   "execution_count": 166,
   "metadata": {},
   "outputs": [
    {
     "name": "stdout",
     "output_type": "stream",
     "text": [
      "<class 'pandas.core.frame.DataFrame'>\n",
      "RangeIndex: 2586 entries, 0 to 2585\n",
      "Data columns (total 22 columns):\n",
      " #   Column                                Non-Null Count  Dtype  \n",
      "---  ------                                --------------  -----  \n",
      " 0   CountyName                            2586 non-null   object \n",
      " 1   DistrictCode                          2586 non-null   float64\n",
      " 2   FY22                                  2586 non-null   object \n",
      " 3   Equalization_Aid                      2586 non-null   object \n",
      " 4   EducationalAdequacy_Aid               2586 non-null   object \n",
      " 5   SchoolChoice_Aid                      2586 non-null   object \n",
      " 6   Transportation_Aid                    2586 non-null   object \n",
      " 7   SpecialEducation_Aid                  2586 non-null   object \n",
      " 8   Security_Aid                          2586 non-null   object \n",
      " 9   Adjustment_Aid                        2586 non-null   object \n",
      " 10  VocationalExpansionStabilization_Aid  2586 non-null   object \n",
      " 11  MilitaryImpact_Aid                    2586 non-null   object \n",
      " 12  FY23                                  2586 non-null   object \n",
      " 13  FY22_FY23Diff                         2586 non-null   object \n",
      " 14  Aid_Percent_Difference                2586 non-null   object \n",
      " 15  Test                                  2296 non-null   object \n",
      " 16  Subject                               2296 non-null   object \n",
      " 17  District_Avg                          2296 non-null   object \n",
      " 18  State_avg                             2296 non-null   float64\n",
      " 19  Benchmark                             2296 non-null   object \n",
      " 20  BT_PCT                                2296 non-null   object \n",
      " 21  STATE_BT_PCT                          2296 non-null   float64\n",
      "dtypes: float64(3), object(19)\n",
      "memory usage: 444.6+ KB\n"
     ]
    }
   ],
   "source": [
    "df_test['DistrictCode'] = df_test['DistrictCode'].astype(float)\n",
    "\n",
    "# Merge on DistrictCode + CohortYear (if datasets include years)\n",
    "funding_test = df_funding.merge(\n",
    "    df_test, \n",
    "    on=['DistrictCode', 'CountyName'],\n",
    "    how=\"left\"\n",
    ")\n",
    "\n",
    "funding_test.info()"
   ]
  },
  {
   "cell_type": "code",
   "execution_count": 167,
   "metadata": {},
   "outputs": [],
   "source": [
    "\n",
    "\n",
    "# Merge on DistrictCode + CohortYear (if datasets include years)\n",
    "df_police_rep['DistrictCode'] = df_police_rep['DistrictCode'].astype(float)\n",
    "\n",
    "\n",
    "funding_policeReports = df_funding.merge(\n",
    "    df_police_rep, \n",
    "    on=['DistrictCode', 'CountyName'], \n",
    "    how=\"left\"\n",
    ")\n",
    "\n",
    "\n",
    "# Merge on DistrictCode + CohortYear (if datasets include years)\n",
    "df_ela['DistrictCode'] = df_ela['DistrictCode'].astype(float)\n",
    "\n",
    "\n",
    "funding_ela = df_funding.merge(\n",
    "    df_ela, \n",
    "    on=['DistrictCode', 'CountyName'], \n",
    "    how=\"left\"\n",
    ")\n",
    "\n",
    "\n",
    "\n",
    "df_math['DistrictCode'] = df_math['DistrictCode'].astype(float)\n",
    "\n",
    "\n",
    "df_math_two = df_funding.merge(\n",
    "    df_math, \n",
    "    on=['DistrictCode', 'CountyName'],\n",
    "    how=\"left\"\n",
    "\n",
    ")\n",
    "\n",
    "\n",
    "\n",
    "df_grad['DistrictCode'] = df_grad['DistrictCode'].astype(float)\n",
    "\n",
    "\n",
    "df_grad_two = df_funding.merge(\n",
    "    df_grad, \n",
    "    on=['DistrictCode', 'CountyName'],\n",
    "    how=\"left\"\n",
    ")\n",
    "\n",
    "\n",
    "\n",
    "\n",
    "df_fedgrad['DistrictCode'] = df_fedgrad['DistrictCode'].astype(float)\n",
    "\n",
    "\n",
    "df_fedgrad_two = df_funding.merge(\n",
    "    df_fedgrad, \n",
    "    on=['DistrictCode', 'CountyName'],\n",
    "    how=\"left\"\n",
    ")"
   ]
  },
  {
   "cell_type": "code",
   "execution_count": 168,
   "metadata": {},
   "outputs": [
    {
     "data": {
      "text/html": [
       "<div>\n",
       "<style scoped>\n",
       "    .dataframe tbody tr th:only-of-type {\n",
       "        vertical-align: middle;\n",
       "    }\n",
       "\n",
       "    .dataframe tbody tr th {\n",
       "        vertical-align: top;\n",
       "    }\n",
       "\n",
       "    .dataframe thead th {\n",
       "        text-align: right;\n",
       "    }\n",
       "</style>\n",
       "<table border=\"1\" class=\"dataframe\">\n",
       "  <thead>\n",
       "    <tr style=\"text-align: right;\">\n",
       "      <th></th>\n",
       "      <th>CountyName</th>\n",
       "      <th>DistrictCode</th>\n",
       "      <th>FY22</th>\n",
       "      <th>Equalization_Aid</th>\n",
       "      <th>EducationalAdequacy_Aid</th>\n",
       "      <th>SchoolChoice_Aid</th>\n",
       "      <th>Transportation_Aid</th>\n",
       "      <th>SpecialEducation_Aid</th>\n",
       "      <th>Security_Aid</th>\n",
       "      <th>Adjustment_Aid</th>\n",
       "      <th>...</th>\n",
       "      <th>FY23</th>\n",
       "      <th>FY22_FY23Diff</th>\n",
       "      <th>Aid_Percent_Difference</th>\n",
       "      <th>Test</th>\n",
       "      <th>Subject</th>\n",
       "      <th>District_Avg</th>\n",
       "      <th>State_avg</th>\n",
       "      <th>Benchmark</th>\n",
       "      <th>BT_PCT</th>\n",
       "      <th>STATE_BT_PCT</th>\n",
       "    </tr>\n",
       "  </thead>\n",
       "  <tbody>\n",
       "    <tr>\n",
       "      <th>0</th>\n",
       "      <td>Atlantic</td>\n",
       "      <td>10.0</td>\n",
       "      <td>4,496,684</td>\n",
       "      <td>4,392,923</td>\n",
       "      <td>0</td>\n",
       "      <td>0</td>\n",
       "      <td>343,882</td>\n",
       "      <td>756,476</td>\n",
       "      <td>261,412</td>\n",
       "      <td>0</td>\n",
       "      <td>...</td>\n",
       "      <td>5,754,693</td>\n",
       "      <td>1,258,009</td>\n",
       "      <td>27.98%</td>\n",
       "      <td>NaN</td>\n",
       "      <td>NaN</td>\n",
       "      <td>NaN</td>\n",
       "      <td>NaN</td>\n",
       "      <td>NaN</td>\n",
       "      <td>NaN</td>\n",
       "      <td>NaN</td>\n",
       "    </tr>\n",
       "    <tr>\n",
       "      <th>1</th>\n",
       "      <td>Atlantic</td>\n",
       "      <td>110.0</td>\n",
       "      <td>72,974,722</td>\n",
       "      <td>78,229,856</td>\n",
       "      <td>0</td>\n",
       "      <td>86,669</td>\n",
       "      <td>1,390,702</td>\n",
       "      <td>5,620,334</td>\n",
       "      <td>3,248,102</td>\n",
       "      <td>7,482,500</td>\n",
       "      <td>...</td>\n",
       "      <td>96,058,163</td>\n",
       "      <td>23,083,441</td>\n",
       "      <td>31.63%</td>\n",
       "      <td>ACT</td>\n",
       "      <td>Science</td>\n",
       "      <td>20</td>\n",
       "      <td>24.0</td>\n",
       "      <td>23</td>\n",
       "      <td>31</td>\n",
       "      <td>59.0</td>\n",
       "    </tr>\n",
       "    <tr>\n",
       "      <th>2</th>\n",
       "      <td>Atlantic</td>\n",
       "      <td>110.0</td>\n",
       "      <td>72,974,722</td>\n",
       "      <td>78,229,856</td>\n",
       "      <td>0</td>\n",
       "      <td>86,669</td>\n",
       "      <td>1,390,702</td>\n",
       "      <td>5,620,334</td>\n",
       "      <td>3,248,102</td>\n",
       "      <td>7,482,500</td>\n",
       "      <td>...</td>\n",
       "      <td>96,058,163</td>\n",
       "      <td>23,083,441</td>\n",
       "      <td>31.63%</td>\n",
       "      <td>ACT</td>\n",
       "      <td>Math</td>\n",
       "      <td>21</td>\n",
       "      <td>24.0</td>\n",
       "      <td>22</td>\n",
       "      <td>46</td>\n",
       "      <td>63.0</td>\n",
       "    </tr>\n",
       "    <tr>\n",
       "      <th>3</th>\n",
       "      <td>Atlantic</td>\n",
       "      <td>110.0</td>\n",
       "      <td>72,974,722</td>\n",
       "      <td>78,229,856</td>\n",
       "      <td>0</td>\n",
       "      <td>86,669</td>\n",
       "      <td>1,390,702</td>\n",
       "      <td>5,620,334</td>\n",
       "      <td>3,248,102</td>\n",
       "      <td>7,482,500</td>\n",
       "      <td>...</td>\n",
       "      <td>96,058,163</td>\n",
       "      <td>23,083,441</td>\n",
       "      <td>31.63%</td>\n",
       "      <td>ACT</td>\n",
       "      <td>English</td>\n",
       "      <td>21</td>\n",
       "      <td>24.0</td>\n",
       "      <td>18</td>\n",
       "      <td>62</td>\n",
       "      <td>80.0</td>\n",
       "    </tr>\n",
       "    <tr>\n",
       "      <th>4</th>\n",
       "      <td>Atlantic</td>\n",
       "      <td>110.0</td>\n",
       "      <td>72,974,722</td>\n",
       "      <td>78,229,856</td>\n",
       "      <td>0</td>\n",
       "      <td>86,669</td>\n",
       "      <td>1,390,702</td>\n",
       "      <td>5,620,334</td>\n",
       "      <td>3,248,102</td>\n",
       "      <td>7,482,500</td>\n",
       "      <td>...</td>\n",
       "      <td>96,058,163</td>\n",
       "      <td>23,083,441</td>\n",
       "      <td>31.63%</td>\n",
       "      <td>ACT</td>\n",
       "      <td>Reading</td>\n",
       "      <td>22</td>\n",
       "      <td>25.0</td>\n",
       "      <td>22</td>\n",
       "      <td>46</td>\n",
       "      <td>66.0</td>\n",
       "    </tr>\n",
       "    <tr>\n",
       "      <th>5</th>\n",
       "      <td>Atlantic</td>\n",
       "      <td>110.0</td>\n",
       "      <td>72,974,722</td>\n",
       "      <td>78,229,856</td>\n",
       "      <td>0</td>\n",
       "      <td>86,669</td>\n",
       "      <td>1,390,702</td>\n",
       "      <td>5,620,334</td>\n",
       "      <td>3,248,102</td>\n",
       "      <td>7,482,500</td>\n",
       "      <td>...</td>\n",
       "      <td>96,058,163</td>\n",
       "      <td>23,083,441</td>\n",
       "      <td>31.63%</td>\n",
       "      <td>PSAT</td>\n",
       "      <td>Reading and Writing</td>\n",
       "      <td>403</td>\n",
       "      <td>466.0</td>\n",
       "      <td>Grade 10: 430 Grade 11: 460</td>\n",
       "      <td>33</td>\n",
       "      <td>56.0</td>\n",
       "    </tr>\n",
       "    <tr>\n",
       "      <th>6</th>\n",
       "      <td>Atlantic</td>\n",
       "      <td>110.0</td>\n",
       "      <td>72,974,722</td>\n",
       "      <td>78,229,856</td>\n",
       "      <td>0</td>\n",
       "      <td>86,669</td>\n",
       "      <td>1,390,702</td>\n",
       "      <td>5,620,334</td>\n",
       "      <td>3,248,102</td>\n",
       "      <td>7,482,500</td>\n",
       "      <td>...</td>\n",
       "      <td>96,058,163</td>\n",
       "      <td>23,083,441</td>\n",
       "      <td>31.63%</td>\n",
       "      <td>PSAT</td>\n",
       "      <td>Math</td>\n",
       "      <td>411</td>\n",
       "      <td>462.0</td>\n",
       "      <td>Grade 10: 480 Grade 11: 510</td>\n",
       "      <td>17</td>\n",
       "      <td>35.0</td>\n",
       "    </tr>\n",
       "    <tr>\n",
       "      <th>7</th>\n",
       "      <td>Atlantic</td>\n",
       "      <td>110.0</td>\n",
       "      <td>72,974,722</td>\n",
       "      <td>78,229,856</td>\n",
       "      <td>0</td>\n",
       "      <td>86,669</td>\n",
       "      <td>1,390,702</td>\n",
       "      <td>5,620,334</td>\n",
       "      <td>3,248,102</td>\n",
       "      <td>7,482,500</td>\n",
       "      <td>...</td>\n",
       "      <td>96,058,163</td>\n",
       "      <td>23,083,441</td>\n",
       "      <td>31.63%</td>\n",
       "      <td>SAT</td>\n",
       "      <td>Reading and Writing</td>\n",
       "      <td>509</td>\n",
       "      <td>533.0</td>\n",
       "      <td>480</td>\n",
       "      <td>63</td>\n",
       "      <td>67.0</td>\n",
       "    </tr>\n",
       "    <tr>\n",
       "      <th>8</th>\n",
       "      <td>Atlantic</td>\n",
       "      <td>110.0</td>\n",
       "      <td>72,974,722</td>\n",
       "      <td>78,229,856</td>\n",
       "      <td>0</td>\n",
       "      <td>86,669</td>\n",
       "      <td>1,390,702</td>\n",
       "      <td>5,620,334</td>\n",
       "      <td>3,248,102</td>\n",
       "      <td>7,482,500</td>\n",
       "      <td>...</td>\n",
       "      <td>96,058,163</td>\n",
       "      <td>23,083,441</td>\n",
       "      <td>31.63%</td>\n",
       "      <td>SAT</td>\n",
       "      <td>Math</td>\n",
       "      <td>511</td>\n",
       "      <td>525.0</td>\n",
       "      <td>530</td>\n",
       "      <td>46</td>\n",
       "      <td>48.0</td>\n",
       "    </tr>\n",
       "    <tr>\n",
       "      <th>9</th>\n",
       "      <td>Atlantic</td>\n",
       "      <td>120.0</td>\n",
       "      <td>14,936,746</td>\n",
       "      <td>16,967,403</td>\n",
       "      <td>0</td>\n",
       "      <td>0</td>\n",
       "      <td>0</td>\n",
       "      <td>1,417,691</td>\n",
       "      <td>601,522</td>\n",
       "      <td>0</td>\n",
       "      <td>...</td>\n",
       "      <td>18,986,616</td>\n",
       "      <td>4,049,870</td>\n",
       "      <td>27.11%</td>\n",
       "      <td>ACT</td>\n",
       "      <td>Science</td>\n",
       "      <td>N</td>\n",
       "      <td>24.0</td>\n",
       "      <td>23</td>\n",
       "      <td>N</td>\n",
       "      <td>59.0</td>\n",
       "    </tr>\n",
       "  </tbody>\n",
       "</table>\n",
       "<p>10 rows × 22 columns</p>\n",
       "</div>"
      ],
      "text/plain": [
       "  CountyName  DistrictCode        FY22 Equalization_Aid  \\\n",
       "0   Atlantic          10.0   4,496,684        4,392,923   \n",
       "1   Atlantic         110.0  72,974,722       78,229,856   \n",
       "2   Atlantic         110.0  72,974,722       78,229,856   \n",
       "3   Atlantic         110.0  72,974,722       78,229,856   \n",
       "4   Atlantic         110.0  72,974,722       78,229,856   \n",
       "5   Atlantic         110.0  72,974,722       78,229,856   \n",
       "6   Atlantic         110.0  72,974,722       78,229,856   \n",
       "7   Atlantic         110.0  72,974,722       78,229,856   \n",
       "8   Atlantic         110.0  72,974,722       78,229,856   \n",
       "9   Atlantic         120.0  14,936,746       16,967,403   \n",
       "\n",
       "  EducationalAdequacy_Aid SchoolChoice_Aid Transportation_Aid  \\\n",
       "0                       0                0            343,882   \n",
       "1                       0           86,669          1,390,702   \n",
       "2                       0           86,669          1,390,702   \n",
       "3                       0           86,669          1,390,702   \n",
       "4                       0           86,669          1,390,702   \n",
       "5                       0           86,669          1,390,702   \n",
       "6                       0           86,669          1,390,702   \n",
       "7                       0           86,669          1,390,702   \n",
       "8                       0           86,669          1,390,702   \n",
       "9                       0                0                  0   \n",
       "\n",
       "  SpecialEducation_Aid Security_Aid Adjustment_Aid  ...        FY23  \\\n",
       "0              756,476      261,412              0  ...   5,754,693   \n",
       "1            5,620,334    3,248,102      7,482,500  ...  96,058,163   \n",
       "2            5,620,334    3,248,102      7,482,500  ...  96,058,163   \n",
       "3            5,620,334    3,248,102      7,482,500  ...  96,058,163   \n",
       "4            5,620,334    3,248,102      7,482,500  ...  96,058,163   \n",
       "5            5,620,334    3,248,102      7,482,500  ...  96,058,163   \n",
       "6            5,620,334    3,248,102      7,482,500  ...  96,058,163   \n",
       "7            5,620,334    3,248,102      7,482,500  ...  96,058,163   \n",
       "8            5,620,334    3,248,102      7,482,500  ...  96,058,163   \n",
       "9            1,417,691      601,522              0  ...  18,986,616   \n",
       "\n",
       "  FY22_FY23Diff Aid_Percent_Difference  Test              Subject  \\\n",
       "0     1,258,009                 27.98%   NaN                  NaN   \n",
       "1    23,083,441                 31.63%   ACT              Science   \n",
       "2    23,083,441                 31.63%   ACT                 Math   \n",
       "3    23,083,441                 31.63%   ACT              English   \n",
       "4    23,083,441                 31.63%   ACT              Reading   \n",
       "5    23,083,441                 31.63%  PSAT  Reading and Writing   \n",
       "6    23,083,441                 31.63%  PSAT                 Math   \n",
       "7    23,083,441                 31.63%   SAT  Reading and Writing   \n",
       "8    23,083,441                 31.63%   SAT                 Math   \n",
       "9     4,049,870                 27.11%   ACT              Science   \n",
       "\n",
       "  District_Avg State_avg                    Benchmark  BT_PCT STATE_BT_PCT  \n",
       "0          NaN       NaN                          NaN     NaN          NaN  \n",
       "1           20      24.0                           23      31         59.0  \n",
       "2           21      24.0                           22      46         63.0  \n",
       "3           21      24.0                           18      62         80.0  \n",
       "4           22      25.0                           22      46         66.0  \n",
       "5          403     466.0  Grade 10: 430 Grade 11: 460      33         56.0  \n",
       "6          411     462.0  Grade 10: 480 Grade 11: 510      17         35.0  \n",
       "7          509     533.0                          480      63         67.0  \n",
       "8          511     525.0                          530      46         48.0  \n",
       "9            N      24.0                           23       N         59.0  \n",
       "\n",
       "[10 rows x 22 columns]"
      ]
     },
     "execution_count": 168,
     "metadata": {},
     "output_type": "execute_result"
    }
   ],
   "source": [
    "funding_test.head(10)"
   ]
  },
  {
   "cell_type": "code",
   "execution_count": 169,
   "metadata": {},
   "outputs": [
    {
     "name": "stdout",
     "output_type": "stream",
     "text": [
      "<class 'pandas.core.frame.DataFrame'>\n",
      "RangeIndex: 577 entries, 0 to 576\n",
      "Data columns (total 21 columns):\n",
      " #   Column                                    Non-Null Count  Dtype  \n",
      "---  ------                                    --------------  -----  \n",
      " 0   CountyName                                577 non-null    object \n",
      " 1   DistrictCode                              577 non-null    float64\n",
      " 2   FY22                                      577 non-null    object \n",
      " 3   Equalization_Aid                          577 non-null    object \n",
      " 4   EducationalAdequacy_Aid                   577 non-null    object \n",
      " 5   SchoolChoice_Aid                          577 non-null    object \n",
      " 6   Transportation_Aid                        577 non-null    object \n",
      " 7   SpecialEducation_Aid                      577 non-null    object \n",
      " 8   Security_Aid                              577 non-null    object \n",
      " 9   Adjustment_Aid                            577 non-null    object \n",
      " 10  VocationalExpansionStabilization_Aid      577 non-null    object \n",
      " 11  MilitaryImpact_Aid                        577 non-null    object \n",
      " 12  FY23                                      577 non-null    object \n",
      " 13  FY22_FY23Diff                             577 non-null    object \n",
      " 14  Aid_Percent_Difference                    577 non-null    object \n",
      " 15  Violence                                  561 non-null    float64\n",
      " 16  Weapons                                   561 non-null    float64\n",
      " 17  Vandalism                                 561 non-null    float64\n",
      " 18  Substances                                561 non-null    float64\n",
      " 19  Harassment, Intimidation, Bullying (HIB)  561 non-null    float64\n",
      " 20  Other Incidents                           561 non-null    float64\n",
      "dtypes: float64(7), object(14)\n",
      "memory usage: 94.8+ KB\n"
     ]
    }
   ],
   "source": [
    "funding_policeReports.info()"
   ]
  },
  {
   "cell_type": "code",
   "execution_count": 170,
   "metadata": {},
   "outputs": [],
   "source": [
    "# Convert funding figures from strings to numeric. Remove commas.  \n",
    "cols_to_convert = ['FY22', 'FY23']  \n",
    "for col in cols_to_convert:  \n",
    "    df_funding[col] = df_funding[col].astype(str).str.replace(\",\", \"\").astype(float)  "
   ]
  },
  {
   "cell_type": "code",
   "execution_count": 171,
   "metadata": {},
   "outputs": [
    {
     "name": "stdout",
     "output_type": "stream",
     "text": [
      "County-level funding data:\n",
      "   CountyName         FY22         FY23\n",
      "0    Atlantic  396667410.0  443405652.0\n",
      "1      Bergen  344734491.0  397933883.0\n",
      "2  Burlington  420667827.0  444820639.0\n",
      "3      Camden  789671823.0  850577971.0\n",
      "4    Cape May   50754891.0   46245581.0\n"
     ]
    },
    {
     "data": {
      "image/png": "[encoded data removed]",
      "text/plain": [
       "<Figure size 1400x800 with 1 Axes>"
      ]
     },
     "metadata": {},
     "output_type": "display_data"
    },
    {
     "name": "stdout",
     "output_type": "stream",
     "text": [
      "Displayed bar chart for FY22 vs FY23 funding by county.\n"
     ]
    }
   ],
   "source": [
    "county_funding = df_funding.groupby('CountyName')[['FY22', 'FY23']].sum().reset_index()\n",
    "\n",
    "# Display the aggregated data\n",
    "print(\"County-level funding data:\")\n",
    "print(county_funding.head())\n",
    "\n",
    "# Plot side-by-side bars for counties\n",
    "plt.figure(figsize=(14, 8))\n",
    "index = range(len(county_funding))\n",
    "bar_width = 0.35\n",
    "\n",
    "plt.bar(index, county_funding['FY22'], width=bar_width, label='FY22')\n",
    "plt.bar([i + bar_width for i in index], county_funding['FY23'], width=bar_width, label='FY23')\n",
    "\n",
    "plt.xlabel('County')\n",
    "plt.ylabel('Total Funding Amount ($)')\n",
    "plt.title('FY22 vs FY23 Funding by County')\n",
    "plt.xticks([i + bar_width/2 for i in index], county_funding['CountyName'], rotation=45, ha='right')\n",
    "plt.legend()\n",
    "plt.tight_layout()\n",
    "plt.show()\n",
    "\n",
    "print(\"Displayed bar chart for FY22 vs FY23 funding by county.\")"
   ]
  },
  {
   "cell_type": "code",
   "execution_count": 172,
   "metadata": {},
   "outputs": [
    {
     "name": "stdout",
     "output_type": "stream",
     "text": [
      "<class 'pandas.core.frame.DataFrame'>\n",
      "RangeIndex: 577 entries, 0 to 576\n",
      "Data columns (total 15 columns):\n",
      " #   Column                                Non-Null Count  Dtype  \n",
      "---  ------                                --------------  -----  \n",
      " 0   CountyName                            577 non-null    object \n",
      " 1   DistrictCode                          577 non-null    float64\n",
      " 2   FY22                                  577 non-null    float64\n",
      " 3   Equalization_Aid                      577 non-null    object \n",
      " 4   EducationalAdequacy_Aid               577 non-null    object \n",
      " 5   SchoolChoice_Aid                      577 non-null    object \n",
      " 6   Transportation_Aid                    577 non-null    object \n",
      " 7   SpecialEducation_Aid                  577 non-null    object \n",
      " 8   Security_Aid                          577 non-null    object \n",
      " 9   Adjustment_Aid                        577 non-null    object \n",
      " 10  VocationalExpansionStabilization_Aid  577 non-null    object \n",
      " 11  MilitaryImpact_Aid                    577 non-null    object \n",
      " 12  FY23                                  577 non-null    float64\n",
      " 13  FY22_FY23Diff                         577 non-null    object \n",
      " 14  Aid_Percent_Difference                577 non-null    object \n",
      "dtypes: float64(3), object(12)\n",
      "memory usage: 67.7+ KB\n"
     ]
    }
   ],
   "source": [
    "df_funding.info()"
   ]
  },
  {
   "cell_type": "code",
   "execution_count": 173,
   "metadata": {},
   "outputs": [],
   "source": [
    "# List of aid related columns as given in the dataset\n",
    "aid_categories = ['Equalization_Aid', 'EducationalAdequacy_Aid', 'SchoolChoice_Aid', 'Transportation_Aid', 'SpecialEducation_Aid', 'Security_Aid', 'Adjustment_Aid', 'VocationalExpansionStabilization_Aid', 'MilitaryImpact_Aid']"
   ]
  },
  {
   "cell_type": "code",
   "execution_count": 174,
   "metadata": {},
   "outputs": [],
   "source": [
    "aid_columns = ['Equalization_Aid', 'EducationalAdequacy_Aid', 'SchoolChoice_Aid', 'Transportation_Aid', 'SpecialEducation_Aid', 'Security_Aid', 'Adjustment_Aid', 'VocationalExpansionStabilization_Aid', 'MilitaryImpact_Aid']\n",
    "\n",
    "for col in aid_columns:\n",
    "    df_funding[col] = df_funding[col].astype(str).str.replace(\",\", \"\").astype(float)"
   ]
  },
  {
   "cell_type": "code",
   "execution_count": 175,
   "metadata": {},
   "outputs": [
    {
     "data": {
      "text/plain": [
       "\"\\n# Plot pie chart for FY22\\nplt.figure(figsize=(8,8))\\nplt.pie(fy22_aid_totals, labels=fy22_aid_totals.index.str.replace('_FY22_Est',''), autopct='%1.1f%%', startangle=140)\\nplt.title('Estimated Distribution of Aid across Areas for FY22')\\nplt.show()\\nprint('Displayed pie chart for FY22 aid distribution.')\\n\\n# Plot pie chart for FY23\\nplt.figure(figsize=(8,8))\\nplt.pie(fy23_aid_totals, labels=fy23_aid_totals.index, autopct='%1.1f%%', startangle=140)\\nplt.title('Distribution of Aid across Areas for FY23')\\nplt.show()\\nprint('Displayed pie chart for FY23 aid distribution.')\\n\""
      ]
     },
     "execution_count": 175,
     "metadata": {},
     "output_type": "execute_result"
    }
   ],
   "source": [
    "# We assume the provided breakdown columns represent FY23 aid distribution.\n",
    "# For FY22, we estimate the aid distribution proportionally from FY23 breakdown using ratio = FY22 / FY23 for each row\n",
    "\n",
    "# Calculate estimated FY22 aid columns\n",
    "for col in aid_categories:\n",
    "    df_funding[col + '_FY22_Est'] = df_funding[col] * (df_funding['FY22'] / df_funding['FY23'])\n",
    "\n",
    "# Sum across rows for each aid category for FY22 and FY23\n",
    "fy22_aid_totals = df_funding[[col for col in aid_categories]].sum()\n",
    "fy23_aid_totals = df_funding[aid_categories].sum()\n",
    "'''\n",
    "# Plot pie chart for FY22\n",
    "plt.figure(figsize=(8,8))\n",
    "plt.pie(fy22_aid_totals, labels=fy22_aid_totals.index.str.replace('_FY22_Est',''), autopct='%1.1f%%', startangle=140)\n",
    "plt.title('Estimated Distribution of Aid across Areas for FY22')\n",
    "plt.show()\n",
    "print('Displayed pie chart for FY22 aid distribution.')\n",
    "\n",
    "# Plot pie chart for FY23\n",
    "plt.figure(figsize=(8,8))\n",
    "plt.pie(fy23_aid_totals, labels=fy23_aid_totals.index, autopct='%1.1f%%', startangle=140)\n",
    "plt.title('Distribution of Aid across Areas for FY23')\n",
    "plt.show()\n",
    "print('Displayed pie chart for FY23 aid distribution.')\n",
    "'''"
   ]
  },
  {
   "cell_type": "code",
   "execution_count": 176,
   "metadata": {},
   "outputs": [
    {
     "data": {
      "image/png": "[encoded data removed]",
      "text/plain": [
       "<Figure size 1000x2000 with 1 Axes>"
      ]
     },
     "metadata": {},
     "output_type": "display_data"
    }
   ],
   "source": [
    "plt.figure(figsize=(10, 20))  \n",
    "wedges, texts, autotexts = plt.pie(  \n",
    "    fy23_aid_totals,   \n",
    "    autopct='%1.1f%%',   \n",
    "    startangle=140,   \n",
    "    pctdistance=0.8,   \n",
    "    textprops={'fontsize': 10}  \n",
    ")  \n",
    "plt.legend(wedges, fy23_aid_totals.index, title=\"Aid Categories\", loc=\"center left\", bbox_to_anchor=(1, 0, 0.5, 1))  \n",
    "plt.title('Distribution of Aid across Areas for FY23')  \n",
    "plt.show()  "
   ]
  },
  {
   "cell_type": "code",
   "execution_count": 177,
   "metadata": {},
   "outputs": [
    {
     "data": {
      "image/png": "[encoded data removed]",
      "text/plain": [
       "<Figure size 1000x2000 with 1 Axes>"
      ]
     },
     "metadata": {},
     "output_type": "display_data"
    }
   ],
   "source": [
    "plt.figure(figsize=(10, 20))  \n",
    "wedges, texts, autotexts = plt.pie(  \n",
    "    fy22_aid_totals,   \n",
    "    autopct='%1.1f%%',   \n",
    "    startangle=140,   \n",
    "    pctdistance=0.8,  \n",
    "    textprops={'fontsize': 10}  \n",
    ")  \n",
    "plt.legend(wedges, fy22_aid_totals.index, title=\"Aid Categories\", loc=\"center left\", bbox_to_anchor=(1, 0, 0.5, 1))  \n",
    "plt.title('Distribution of Aid across Areas for FY22')  \n",
    "plt.show()  "
   ]
  },
  {
   "cell_type": "code",
   "execution_count": 178,
   "metadata": {},
   "outputs": [
    {
     "name": "stdout",
     "output_type": "stream",
     "text": [
      "<class 'pandas.core.frame.DataFrame'>\n",
      "RangeIndex: 2552 entries, 0 to 2551\n",
      "Data columns (total 9 columns):\n",
      " #   Column        Non-Null Count  Dtype  \n",
      "---  ------        --------------  -----  \n",
      " 0   CountyName    2552 non-null   object \n",
      " 1   DistrictCode  2552 non-null   float64\n",
      " 2   Test          2552 non-null   object \n",
      " 3   Subject       2552 non-null   object \n",
      " 4   District_Avg  2552 non-null   object \n",
      " 5   State_avg     2552 non-null   float64\n",
      " 6   Benchmark     2552 non-null   object \n",
      " 7   BT_PCT        2552 non-null   object \n",
      " 8   STATE_BT_PCT  2552 non-null   float64\n",
      "dtypes: float64(3), object(6)\n",
      "memory usage: 179.6+ KB\n"
     ]
    }
   ],
   "source": [
    "df_test.info()"
   ]
  },
  {
   "cell_type": "code",
   "execution_count": 179,
   "metadata": {},
   "outputs": [],
   "source": [
    "import numpy as np\n",
    "df_test['District_Avg'] = df_test['District_Avg'].replace(['N', '*'], np.nan).astype(float)    # Replace N with 0\n",
    "        "
   ]
  },
  {
   "cell_type": "code",
   "execution_count": 180,
   "metadata": {},
   "outputs": [
    {
     "data": {
      "text/plain": [
       "'cols_to_convert_test = [\\'District_Avg\\']  \\nfor col in cols_to_convert_test:  \\n    df_test[col] = df_test[col].astype(str).str.replace(\",\", \"\").astype(float)  '"
      ]
     },
     "execution_count": 180,
     "metadata": {},
     "output_type": "execute_result"
    }
   ],
   "source": [
    "'''cols_to_convert_test = ['District_Avg']  \n",
    "for col in cols_to_convert_test:  \n",
    "    df_test[col] = df_test[col].astype(str).str.replace(\",\", \"\").astype(float)  '''"
   ]
  },
  {
   "cell_type": "code",
   "execution_count": 181,
   "metadata": {},
   "outputs": [
    {
     "name": "stdout",
     "output_type": "stream",
     "text": [
      "CountyName       object\n",
      "DistrictCode    float64\n",
      "Test             object\n",
      "Subject          object\n",
      "District_Avg    float64\n",
      "State_avg       float64\n",
      "Benchmark        object\n",
      "BT_PCT           object\n",
      "STATE_BT_PCT    float64\n",
      "dtype: object\n"
     ]
    }
   ],
   "source": [
    "# Convert District_Avg and State_avg to numeric, coercing non-numeric values to NaN\n",
    "df_test['District_Avg'] = pd.to_numeric(df_test['District_Avg'], errors='coerce')\n",
    "df_test['State_avg'] = pd.to_numeric(df_test['State_avg'], errors='coerce')\n",
    "\n",
    "# Check the data types after conversion\n",
    "print(df_test.dtypes)"
   ]
  },
  {
   "cell_type": "code",
   "execution_count": 182,
   "metadata": {},
   "outputs": [
    {
     "name": "stdout",
     "output_type": "stream",
     "text": [
      "County averages after grouping:\n",
      "   CountyName  District_Avg  State_avg\n",
      "0    Atlantic    355.083333    260.375\n",
      "1      Bergen    345.647059    260.375\n",
      "2  Burlington    398.525000    260.375\n",
      "3      Camden    372.760000    260.375\n",
      "4    Cape May    418.333333    260.375\n"
     ]
    },
    {
     "data": {
      "image/png": "[encoded data removed]",
      "text/plain": [
       "<Figure size 1200x600 with 1 Axes>"
      ]
     },
     "metadata": {},
     "output_type": "display_data"
    },
    {
     "name": "stdout",
     "output_type": "stream",
     "text": [
      "Graph created successfully.\n"
     ]
    }
   ],
   "source": [
    "# Now let's group by CountyName and calculate the mean, dropping NaN values\n",
    "county_avg = df_test.groupby('CountyName')[['District_Avg', 'State_avg']].mean().reset_index()\n",
    "\n",
    "# Display the head of the grouped data\n",
    "print(\"\\\n",
    "County averages after grouping:\")\n",
    "print(county_avg.head())\n",
    "\n",
    "# Plotting the grouped averages using seaborn\n",
    "plt.figure(figsize=(12, 6))\n",
    "\n",
    "# Draw a barplot for District Average Scores\n",
    "sb.barplot(data=county_avg, x='CountyName', y='District_Avg', color='skyblue', label='County Avg')\n",
    "\n",
    "# Draw a lineplot for State Average Scores on the same axis\n",
    "sb.lineplot(data=county_avg, x='CountyName', y='State_avg', marker='o', color='red', label='State Avg')\n",
    "\n",
    "plt.xticks(rotation=45, ha='right')\n",
    "plt.xlabel('County Name')\n",
    "plt.ylabel('Average Score')\n",
    "plt.title('District and State Average Scores by County')\n",
    "plt.legend()\n",
    "plt.tight_layout()\n",
    "plt.show()\n",
    "\n",
    "print('Graph created successfully.')"
   ]
  },
  {
   "cell_type": "code",
   "execution_count": 183,
   "metadata": {},
   "outputs": [
    {
     "name": "stdout",
     "output_type": "stream",
     "text": [
      "<class 'pandas.core.frame.DataFrame'>\n",
      "RangeIndex: 3629 entries, 0 to 3628\n",
      "Data columns (total 5 columns):\n",
      " #   Column                      Non-Null Count  Dtype  \n",
      "---  ------                      --------------  -----  \n",
      " 0   CountyName                  3629 non-null   object \n",
      " 1   DistrictCode                3629 non-null   float64\n",
      " 2   SchoolYear                  3629 non-null   object \n",
      " 3   Grades                      3629 non-null   object \n",
      " 4   % Met/Exceeded Expectation  3629 non-null   object \n",
      "dtypes: float64(1), object(4)\n",
      "memory usage: 141.9+ KB\n"
     ]
    }
   ],
   "source": [
    "df_ela.info()"
   ]
  },
  {
   "cell_type": "code",
   "execution_count": 184,
   "metadata": {},
   "outputs": [
    {
     "data": {
      "text/html": [
       "<div>\n",
       "<style scoped>\n",
       "    .dataframe tbody tr th:only-of-type {\n",
       "        vertical-align: middle;\n",
       "    }\n",
       "\n",
       "    .dataframe tbody tr th {\n",
       "        vertical-align: top;\n",
       "    }\n",
       "\n",
       "    .dataframe thead th {\n",
       "        text-align: right;\n",
       "    }\n",
       "</style>\n",
       "<table border=\"1\" class=\"dataframe\">\n",
       "  <thead>\n",
       "    <tr style=\"text-align: right;\">\n",
       "      <th></th>\n",
       "      <th>CountyName</th>\n",
       "      <th>DistrictCode</th>\n",
       "      <th>SchoolYear</th>\n",
       "      <th>Grades</th>\n",
       "      <th>% Met/Exceeded Expectation</th>\n",
       "    </tr>\n",
       "  </thead>\n",
       "  <tbody>\n",
       "    <tr>\n",
       "      <th>0</th>\n",
       "      <td>Atlantic</td>\n",
       "      <td>10.0</td>\n",
       "      <td>2022-2023</td>\n",
       "      <td>Grade 03</td>\n",
       "      <td>43.6</td>\n",
       "    </tr>\n",
       "    <tr>\n",
       "      <th>1</th>\n",
       "      <td>Atlantic</td>\n",
       "      <td>10.0</td>\n",
       "      <td>2022-2023</td>\n",
       "      <td>Grade 04</td>\n",
       "      <td>45.3</td>\n",
       "    </tr>\n",
       "    <tr>\n",
       "      <th>2</th>\n",
       "      <td>Atlantic</td>\n",
       "      <td>10.0</td>\n",
       "      <td>2022-2023</td>\n",
       "      <td>Grade 05</td>\n",
       "      <td>43.4</td>\n",
       "    </tr>\n",
       "    <tr>\n",
       "      <th>3</th>\n",
       "      <td>Atlantic</td>\n",
       "      <td>10.0</td>\n",
       "      <td>2022-2023</td>\n",
       "      <td>Grade 06</td>\n",
       "      <td>48.5</td>\n",
       "    </tr>\n",
       "    <tr>\n",
       "      <th>4</th>\n",
       "      <td>Atlantic</td>\n",
       "      <td>10.0</td>\n",
       "      <td>2022-2023</td>\n",
       "      <td>Grade 07</td>\n",
       "      <td>54.5</td>\n",
       "    </tr>\n",
       "    <tr>\n",
       "      <th>5</th>\n",
       "      <td>Atlantic</td>\n",
       "      <td>10.0</td>\n",
       "      <td>2022-2023</td>\n",
       "      <td>Grade 08</td>\n",
       "      <td>48.3</td>\n",
       "    </tr>\n",
       "    <tr>\n",
       "      <th>6</th>\n",
       "      <td>Atlantic</td>\n",
       "      <td>110.0</td>\n",
       "      <td>2022-2023</td>\n",
       "      <td>Grade 03</td>\n",
       "      <td>20.7</td>\n",
       "    </tr>\n",
       "    <tr>\n",
       "      <th>7</th>\n",
       "      <td>Atlantic</td>\n",
       "      <td>110.0</td>\n",
       "      <td>2022-2023</td>\n",
       "      <td>Grade 04</td>\n",
       "      <td>30</td>\n",
       "    </tr>\n",
       "    <tr>\n",
       "      <th>8</th>\n",
       "      <td>Atlantic</td>\n",
       "      <td>110.0</td>\n",
       "      <td>2022-2023</td>\n",
       "      <td>Grade 05</td>\n",
       "      <td>29.6</td>\n",
       "    </tr>\n",
       "    <tr>\n",
       "      <th>9</th>\n",
       "      <td>Atlantic</td>\n",
       "      <td>110.0</td>\n",
       "      <td>2022-2023</td>\n",
       "      <td>Grade 06</td>\n",
       "      <td>25.6</td>\n",
       "    </tr>\n",
       "  </tbody>\n",
       "</table>\n",
       "</div>"
      ],
      "text/plain": [
       "  CountyName  DistrictCode SchoolYear    Grades % Met/Exceeded Expectation\n",
       "0   Atlantic          10.0  2022-2023  Grade 03                       43.6\n",
       "1   Atlantic          10.0  2022-2023  Grade 04                       45.3\n",
       "2   Atlantic          10.0  2022-2023  Grade 05                       43.4\n",
       "3   Atlantic          10.0  2022-2023  Grade 06                       48.5\n",
       "4   Atlantic          10.0  2022-2023  Grade 07                       54.5\n",
       "5   Atlantic          10.0  2022-2023  Grade 08                       48.3\n",
       "6   Atlantic         110.0  2022-2023  Grade 03                       20.7\n",
       "7   Atlantic         110.0  2022-2023  Grade 04                         30\n",
       "8   Atlantic         110.0  2022-2023  Grade 05                       29.6\n",
       "9   Atlantic         110.0  2022-2023  Grade 06                       25.6"
      ]
     },
     "execution_count": 184,
     "metadata": {},
     "output_type": "execute_result"
    }
   ],
   "source": [
    "df_ela.head(10)"
   ]
  },
  {
   "cell_type": "code",
   "execution_count": 185,
   "metadata": {},
   "outputs": [
    {
     "name": "stdout",
     "output_type": "stream",
     "text": [
      "CountyName                     object\n",
      "DistrictCode                  float64\n",
      "SchoolYear                     object\n",
      "Grades                         object\n",
      "% Met/Exceeded Expectation    float64\n",
      "dtype: object\n"
     ]
    }
   ],
   "source": [
    "df_ela['% Met/Exceeded Expectation'] = pd.to_numeric(df_ela['% Met/Exceeded Expectation'], errors='coerce')\n",
    "\n",
    "# Check the data types after conversion\n",
    "print(df_ela.dtypes)"
   ]
  },
  {
   "cell_type": "code",
   "execution_count": 186,
   "metadata": {},
   "outputs": [
    {
     "name": "stdout",
     "output_type": "stream",
     "text": [
      "County averages after grouping:\n",
      "   CountyName  % Met/Exceeded Expectation\n",
      "0    Atlantic                   43.336364\n",
      "1      Bergen                   67.564551\n",
      "2  Burlington                   44.155251\n",
      "3      Camden                   43.785593\n",
      "4    Cape May                   46.885294\n"
     ]
    },
    {
     "name": "stderr",
     "output_type": "stream",
     "text": [
      "C:\\Users\\eddyk\\AppData\\Local\\Temp\\ipykernel_3828\\218012237.py:19: UserWarning: No artists with labels found to put in legend.  Note that artists whose label start with an underscore are ignored when legend() is called with no argument.\n",
      "  plt.legend()\n"
     ]
    },
    {
     "data": {
      "image/png": "[encoded data removed]",
      "text/plain": [
       "<Figure size 1200x600 with 1 Axes>"
      ]
     },
     "metadata": {},
     "output_type": "display_data"
    },
    {
     "name": "stdout",
     "output_type": "stream",
     "text": [
      "Graph created successfully.\n"
     ]
    }
   ],
   "source": [
    "# Now let's group by CountyName and calculate the mean, dropping NaN values\n",
    "ela_expected_avg = df_ela.groupby('CountyName')[['% Met/Exceeded Expectation']].mean().reset_index()\n",
    "\n",
    "# Display the head of the grouped data\n",
    "print(\"\\\n",
    "County averages after grouping:\")\n",
    "print(ela_expected_avg.head())\n",
    "\n",
    "# Plotting the grouped averages using seaborn\n",
    "plt.figure(figsize=(12, 6))\n",
    "\n",
    "# Draw a barplot for District Average Scores\n",
    "sb.barplot(data=ela_expected_avg, x='CountyName', y='% Met/Exceeded Expectation', color='skyblue')\n",
    "\n",
    "plt.xticks(rotation=45, ha='right')\n",
    "plt.xlabel('County Name')\n",
    "plt.ylabel('Average Score')\n",
    "plt.title('Average Percebtage of Students that Met/Exceeded ELA Expectation by County')\n",
    "plt.legend()\n",
    "plt.tight_layout()\n",
    "plt.show()\n",
    "\n",
    "print('Graph created successfully.')"
   ]
  },
  {
   "cell_type": "code",
   "execution_count": 187,
   "metadata": {},
   "outputs": [
    {
     "name": "stdout",
     "output_type": "stream",
     "text": [
      "<class 'pandas.core.frame.DataFrame'>\n",
      "RangeIndex: 4659 entries, 0 to 4658\n",
      "Data columns (total 5 columns):\n",
      " #   Column                      Non-Null Count  Dtype  \n",
      "---  ------                      --------------  -----  \n",
      " 0   CountyName                  4659 non-null   object \n",
      " 1   DistrictCode                4659 non-null   float64\n",
      " 2   SchoolYear                  4659 non-null   object \n",
      " 3   Grades/Subject              4659 non-null   object \n",
      " 4   % Met/Exceeded Expectation  4659 non-null   object \n",
      "dtypes: float64(1), object(4)\n",
      "memory usage: 182.1+ KB\n"
     ]
    }
   ],
   "source": [
    "df_math.info()"
   ]
  },
  {
   "cell_type": "code",
   "execution_count": 188,
   "metadata": {},
   "outputs": [
    {
     "name": "stdout",
     "output_type": "stream",
     "text": [
      "CountyName                     object\n",
      "DistrictCode                  float64\n",
      "SchoolYear                     object\n",
      "Grades/Subject                 object\n",
      "% Met/Exceeded Expectation    float64\n",
      "dtype: object\n"
     ]
    }
   ],
   "source": [
    "df_math['% Met/Exceeded Expectation'] = pd.to_numeric(df_math['% Met/Exceeded Expectation'], errors='coerce')\n",
    "\n",
    "# Check the data types after conversion\n",
    "print(df_math.dtypes)"
   ]
  },
  {
   "cell_type": "code",
   "execution_count": 189,
   "metadata": {},
   "outputs": [
    {
     "name": "stderr",
     "output_type": "stream",
     "text": [
      "C:\\Users\\eddyk\\AppData\\Local\\Temp\\ipykernel_3828\\4012563225.py:19: UserWarning: No artists with labels found to put in legend.  Note that artists whose label start with an underscore are ignored when legend() is called with no argument.\n",
      "  plt.legend()\n"
     ]
    },
    {
     "name": "stdout",
     "output_type": "stream",
     "text": [
      "County averages after grouping:\n",
      "   CountyName  % Met/Exceeded Expectation\n",
      "0    Atlantic                   39.189855\n",
      "1      Bergen                   55.638403\n",
      "2  Burlington                   40.276623\n",
      "3      Camden                   38.325333\n",
      "4    Cape May                   37.879167\n"
     ]
    },
    {
     "data": {
      "image/png": "[encoded data removed]",
      "text/plain": [
       "<Figure size 1200x600 with 1 Axes>"
      ]
     },
     "metadata": {},
     "output_type": "display_data"
    },
    {
     "name": "stdout",
     "output_type": "stream",
     "text": [
      "Graph created successfully.\n"
     ]
    }
   ],
   "source": [
    "# Now let's group by CountyName and calculate the mean, dropping NaN values\n",
    "mp_expected_avg = df_math.groupby('CountyName')[['% Met/Exceeded Expectation']].mean().reset_index()\n",
    "\n",
    "# Display the head of the grouped data\n",
    "print(\"\\\n",
    "County averages after grouping:\")\n",
    "print(mp_expected_avg.head())\n",
    "\n",
    "# Plotting the grouped averages using seaborn\n",
    "plt.figure(figsize=(12, 6))\n",
    "\n",
    "# Draw a barplot for District Average Scores\n",
    "sb.barplot(data=mp_expected_avg, x='CountyName', y='% Met/Exceeded Expectation', color='skyblue')\n",
    "\n",
    "plt.xticks(rotation=45, ha='right')\n",
    "plt.xlabel('County Name')\n",
    "plt.ylabel('Average Score')\n",
    "plt.title('Average Percentage of Students that Met/Exceeded Math Expectation by County')\n",
    "plt.legend()\n",
    "plt.tight_layout()\n",
    "plt.show()\n",
    "\n",
    "print('Graph created successfully.')"
   ]
  },
  {
   "cell_type": "code",
   "execution_count": 190,
   "metadata": {},
   "outputs": [
    {
     "name": "stdout",
     "output_type": "stream",
     "text": [
      "<class 'pandas.core.frame.DataFrame'>\n",
      "RangeIndex: 5338 entries, 0 to 5337\n",
      "Data columns (total 7 columns):\n",
      " #   Column                                      Non-Null Count  Dtype  \n",
      "---  ------                                      --------------  -----  \n",
      " 0   CountyName                                  5338 non-null   object \n",
      " 1   DistrictCode                                5338 non-null   float64\n",
      " 2   StudentGroup                                5338 non-null   object \n",
      " 3   2023 4-Year Federal Graduation Rate         5338 non-null   object \n",
      " 4   2022 5-Year Federal Graduation Rate         5338 non-null   object \n",
      " 5   State: 2023 4-Year Federal Graduation Rate  5338 non-null   object \n",
      " 6   State: 2022 5-Year Federal Graduation Rate  5338 non-null   object \n",
      "dtypes: float64(1), object(6)\n",
      "memory usage: 292.1+ KB\n"
     ]
    }
   ],
   "source": [
    "df_fedgrad.info()"
   ]
  },
  {
   "cell_type": "code",
   "execution_count": 191,
   "metadata": {},
   "outputs": [
    {
     "name": "stdout",
     "output_type": "stream",
     "text": [
      "CountyName                                     object\n",
      "DistrictCode                                  float64\n",
      "StudentGroup                                   object\n",
      "2023 4-Year Federal Graduation Rate           float64\n",
      "2022 5-Year Federal Graduation Rate            object\n",
      "State: 2023 4-Year Federal Graduation Rate    float64\n",
      "State: 2022 5-Year Federal Graduation Rate     object\n",
      "dtype: object\n"
     ]
    }
   ],
   "source": [
    "df_fedgrad['2023 4-Year Federal Graduation Rate'] = pd.to_numeric(df_fedgrad['2023 4-Year Federal Graduation Rate'], errors='coerce')\n",
    "df_fedgrad['State: 2023 4-Year Federal Graduation Rate'] = pd.to_numeric(df_fedgrad['State: 2023 4-Year Federal Graduation Rate'], errors='coerce')\n",
    "# Check the data types after conversion\n",
    "print(df_fedgrad.dtypes)"
   ]
  },
  {
   "cell_type": "code",
   "execution_count": 192,
   "metadata": {},
   "outputs": [
    {
     "name": "stdout",
     "output_type": "stream",
     "text": [
      "County averages after grouping:\n",
      "   CountyName  % Met/Exceeded Expectation\n",
      "0    Atlantic                   39.189855\n",
      "1      Bergen                   55.638403\n",
      "2  Burlington                   40.276623\n",
      "3      Camden                   38.325333\n",
      "4    Cape May                   37.879167\n"
     ]
    },
    {
     "name": "stderr",
     "output_type": "stream",
     "text": [
      "C:\\Users\\eddyk\\AppData\\Local\\Temp\\ipykernel_3828\\19220517.py:19: UserWarning: No artists with labels found to put in legend.  Note that artists whose label start with an underscore are ignored when legend() is called with no argument.\n",
      "  plt.legend()\n"
     ]
    },
    {
     "data": {
      "image/png": "[encoded data removed]",
      "text/plain": [
       "<Figure size 1200x600 with 1 Axes>"
      ]
     },
     "metadata": {},
     "output_type": "display_data"
    },
    {
     "name": "stdout",
     "output_type": "stream",
     "text": [
      "Graph created successfully.\n"
     ]
    }
   ],
   "source": [
    "# Now let's group by CountyName and calculate the mean, dropping NaN values\n",
    "fedgrad_avg = df_fedgrad.groupby('CountyName')[['2023 4-Year Federal Graduation Rate','State: 2023 4-Year Federal Graduation Rate']].mean().reset_index()\n",
    "\n",
    "# Display the head of the grouped data\n",
    "print(\"\\\n",
    "County averages after grouping:\")\n",
    "print(mp_expected_avg.head())\n",
    "\n",
    "# Plotting the grouped averages using seaborn\n",
    "plt.figure(figsize=(12, 6))\n",
    "\n",
    "# Draw a barplot for District Average Scores\n",
    "sb.barplot(data=mp_expected_avg, x='CountyName', y='% Met/Exceeded Expectation', color='skyblue')\n",
    "\n",
    "plt.xticks(rotation=45, ha='right')\n",
    "plt.xlabel('County Name')\n",
    "plt.ylabel('Average Score')\n",
    "plt.title('Average Percentage of Students that Met/Exceeded Math Expectation by County')\n",
    "plt.legend()\n",
    "plt.tight_layout()\n",
    "plt.show()\n",
    "\n",
    "print('Graph created successfully.')"
   ]
  },
  {
   "cell_type": "code",
   "execution_count": 193,
   "metadata": {},
   "outputs": [
    {
     "name": "stdout",
     "output_type": "stream",
     "text": [
      "<class 'pandas.core.frame.DataFrame'>\n",
      "RangeIndex: 2586 entries, 0 to 2585\n",
      "Data columns (total 22 columns):\n",
      " #   Column                                Non-Null Count  Dtype  \n",
      "---  ------                                --------------  -----  \n",
      " 0   CountyName                            2586 non-null   object \n",
      " 1   DistrictCode                          2586 non-null   float64\n",
      " 2   FY22                                  2586 non-null   object \n",
      " 3   Equalization_Aid                      2586 non-null   object \n",
      " 4   EducationalAdequacy_Aid               2586 non-null   object \n",
      " 5   SchoolChoice_Aid                      2586 non-null   object \n",
      " 6   Transportation_Aid                    2586 non-null   object \n",
      " 7   SpecialEducation_Aid                  2586 non-null   object \n",
      " 8   Security_Aid                          2586 non-null   object \n",
      " 9   Adjustment_Aid                        2586 non-null   object \n",
      " 10  VocationalExpansionStabilization_Aid  2586 non-null   object \n",
      " 11  MilitaryImpact_Aid                    2586 non-null   object \n",
      " 12  FY23                                  2586 non-null   object \n",
      " 13  FY22_FY23Diff                         2586 non-null   object \n",
      " 14  Aid_Percent_Difference                2586 non-null   object \n",
      " 15  Test                                  2296 non-null   object \n",
      " 16  Subject                               2296 non-null   object \n",
      " 17  District_Avg                          2296 non-null   object \n",
      " 18  State_avg                             2296 non-null   float64\n",
      " 19  Benchmark                             2296 non-null   object \n",
      " 20  BT_PCT                                2296 non-null   object \n",
      " 21  STATE_BT_PCT                          2296 non-null   float64\n",
      "dtypes: float64(3), object(19)\n",
      "memory usage: 444.6+ KB\n"
     ]
    }
   ],
   "source": [
    "funding_test.info()"
   ]
  },
  {
   "cell_type": "code",
   "execution_count": 194,
   "metadata": {},
   "outputs": [
    {
     "data": {
      "text/html": [
       "<div>\n",
       "<style scoped>\n",
       "    .dataframe tbody tr th:only-of-type {\n",
       "        vertical-align: middle;\n",
       "    }\n",
       "\n",
       "    .dataframe tbody tr th {\n",
       "        vertical-align: top;\n",
       "    }\n",
       "\n",
       "    .dataframe thead th {\n",
       "        text-align: right;\n",
       "    }\n",
       "</style>\n",
       "<table border=\"1\" class=\"dataframe\">\n",
       "  <thead>\n",
       "    <tr style=\"text-align: right;\">\n",
       "      <th></th>\n",
       "      <th>CountyName</th>\n",
       "      <th>DistrictCode</th>\n",
       "      <th>FY22</th>\n",
       "      <th>Equalization_Aid</th>\n",
       "      <th>EducationalAdequacy_Aid</th>\n",
       "      <th>SchoolChoice_Aid</th>\n",
       "      <th>Transportation_Aid</th>\n",
       "      <th>SpecialEducation_Aid</th>\n",
       "      <th>Security_Aid</th>\n",
       "      <th>Adjustment_Aid</th>\n",
       "      <th>...</th>\n",
       "      <th>FY23</th>\n",
       "      <th>FY22_FY23Diff</th>\n",
       "      <th>Aid_Percent_Difference</th>\n",
       "      <th>Test</th>\n",
       "      <th>Subject</th>\n",
       "      <th>District_Avg</th>\n",
       "      <th>State_avg</th>\n",
       "      <th>Benchmark</th>\n",
       "      <th>BT_PCT</th>\n",
       "      <th>STATE_BT_PCT</th>\n",
       "    </tr>\n",
       "  </thead>\n",
       "  <tbody>\n",
       "    <tr>\n",
       "      <th>0</th>\n",
       "      <td>Atlantic</td>\n",
       "      <td>10.0</td>\n",
       "      <td>4,496,684</td>\n",
       "      <td>4,392,923</td>\n",
       "      <td>0</td>\n",
       "      <td>0</td>\n",
       "      <td>343,882</td>\n",
       "      <td>756,476</td>\n",
       "      <td>261,412</td>\n",
       "      <td>0</td>\n",
       "      <td>...</td>\n",
       "      <td>5,754,693</td>\n",
       "      <td>1,258,009</td>\n",
       "      <td>27.98%</td>\n",
       "      <td>NaN</td>\n",
       "      <td>NaN</td>\n",
       "      <td>NaN</td>\n",
       "      <td>NaN</td>\n",
       "      <td>NaN</td>\n",
       "      <td>NaN</td>\n",
       "      <td>NaN</td>\n",
       "    </tr>\n",
       "    <tr>\n",
       "      <th>1</th>\n",
       "      <td>Atlantic</td>\n",
       "      <td>110.0</td>\n",
       "      <td>72,974,722</td>\n",
       "      <td>78,229,856</td>\n",
       "      <td>0</td>\n",
       "      <td>86,669</td>\n",
       "      <td>1,390,702</td>\n",
       "      <td>5,620,334</td>\n",
       "      <td>3,248,102</td>\n",
       "      <td>7,482,500</td>\n",
       "      <td>...</td>\n",
       "      <td>96,058,163</td>\n",
       "      <td>23,083,441</td>\n",
       "      <td>31.63%</td>\n",
       "      <td>ACT</td>\n",
       "      <td>Science</td>\n",
       "      <td>20</td>\n",
       "      <td>24.0</td>\n",
       "      <td>23</td>\n",
       "      <td>31</td>\n",
       "      <td>59.0</td>\n",
       "    </tr>\n",
       "    <tr>\n",
       "      <th>2</th>\n",
       "      <td>Atlantic</td>\n",
       "      <td>110.0</td>\n",
       "      <td>72,974,722</td>\n",
       "      <td>78,229,856</td>\n",
       "      <td>0</td>\n",
       "      <td>86,669</td>\n",
       "      <td>1,390,702</td>\n",
       "      <td>5,620,334</td>\n",
       "      <td>3,248,102</td>\n",
       "      <td>7,482,500</td>\n",
       "      <td>...</td>\n",
       "      <td>96,058,163</td>\n",
       "      <td>23,083,441</td>\n",
       "      <td>31.63%</td>\n",
       "      <td>ACT</td>\n",
       "      <td>Math</td>\n",
       "      <td>21</td>\n",
       "      <td>24.0</td>\n",
       "      <td>22</td>\n",
       "      <td>46</td>\n",
       "      <td>63.0</td>\n",
       "    </tr>\n",
       "    <tr>\n",
       "      <th>3</th>\n",
       "      <td>Atlantic</td>\n",
       "      <td>110.0</td>\n",
       "      <td>72,974,722</td>\n",
       "      <td>78,229,856</td>\n",
       "      <td>0</td>\n",
       "      <td>86,669</td>\n",
       "      <td>1,390,702</td>\n",
       "      <td>5,620,334</td>\n",
       "      <td>3,248,102</td>\n",
       "      <td>7,482,500</td>\n",
       "      <td>...</td>\n",
       "      <td>96,058,163</td>\n",
       "      <td>23,083,441</td>\n",
       "      <td>31.63%</td>\n",
       "      <td>ACT</td>\n",
       "      <td>English</td>\n",
       "      <td>21</td>\n",
       "      <td>24.0</td>\n",
       "      <td>18</td>\n",
       "      <td>62</td>\n",
       "      <td>80.0</td>\n",
       "    </tr>\n",
       "    <tr>\n",
       "      <th>4</th>\n",
       "      <td>Atlantic</td>\n",
       "      <td>110.0</td>\n",
       "      <td>72,974,722</td>\n",
       "      <td>78,229,856</td>\n",
       "      <td>0</td>\n",
       "      <td>86,669</td>\n",
       "      <td>1,390,702</td>\n",
       "      <td>5,620,334</td>\n",
       "      <td>3,248,102</td>\n",
       "      <td>7,482,500</td>\n",
       "      <td>...</td>\n",
       "      <td>96,058,163</td>\n",
       "      <td>23,083,441</td>\n",
       "      <td>31.63%</td>\n",
       "      <td>ACT</td>\n",
       "      <td>Reading</td>\n",
       "      <td>22</td>\n",
       "      <td>25.0</td>\n",
       "      <td>22</td>\n",
       "      <td>46</td>\n",
       "      <td>66.0</td>\n",
       "    </tr>\n",
       "  </tbody>\n",
       "</table>\n",
       "<p>5 rows × 22 columns</p>\n",
       "</div>"
      ],
      "text/plain": [
       "  CountyName  DistrictCode        FY22 Equalization_Aid  \\\n",
       "0   Atlantic          10.0   4,496,684        4,392,923   \n",
       "1   Atlantic         110.0  72,974,722       78,229,856   \n",
       "2   Atlantic         110.0  72,974,722       78,229,856   \n",
       "3   Atlantic         110.0  72,974,722       78,229,856   \n",
       "4   Atlantic         110.0  72,974,722       78,229,856   \n",
       "\n",
       "  EducationalAdequacy_Aid SchoolChoice_Aid Transportation_Aid  \\\n",
       "0                       0                0            343,882   \n",
       "1                       0           86,669          1,390,702   \n",
       "2                       0           86,669          1,390,702   \n",
       "3                       0           86,669          1,390,702   \n",
       "4                       0           86,669          1,390,702   \n",
       "\n",
       "  SpecialEducation_Aid Security_Aid Adjustment_Aid  ...        FY23  \\\n",
       "0              756,476      261,412              0  ...   5,754,693   \n",
       "1            5,620,334    3,248,102      7,482,500  ...  96,058,163   \n",
       "2            5,620,334    3,248,102      7,482,500  ...  96,058,163   \n",
       "3            5,620,334    3,248,102      7,482,500  ...  96,058,163   \n",
       "4            5,620,334    3,248,102      7,482,500  ...  96,058,163   \n",
       "\n",
       "  FY22_FY23Diff Aid_Percent_Difference Test  Subject District_Avg State_avg  \\\n",
       "0     1,258,009                 27.98%  NaN      NaN          NaN       NaN   \n",
       "1    23,083,441                 31.63%  ACT  Science           20      24.0   \n",
       "2    23,083,441                 31.63%  ACT     Math           21      24.0   \n",
       "3    23,083,441                 31.63%  ACT  English           21      24.0   \n",
       "4    23,083,441                 31.63%  ACT  Reading           22      25.0   \n",
       "\n",
       "  Benchmark  BT_PCT STATE_BT_PCT  \n",
       "0       NaN     NaN          NaN  \n",
       "1        23      31         59.0  \n",
       "2        22      46         63.0  \n",
       "3        18      62         80.0  \n",
       "4        22      46         66.0  \n",
       "\n",
       "[5 rows x 22 columns]"
      ]
     },
     "execution_count": 194,
     "metadata": {},
     "output_type": "execute_result"
    }
   ],
   "source": [
    "funding_test.head(5)"
   ]
  },
  {
   "cell_type": "code",
   "execution_count": 195,
   "metadata": {},
   "outputs": [],
   "source": [
    "#MACHINE LEARNING\n",
    "from sklearn.model_selection import train_test_split  \n",
    "from sklearn.linear_model import LinearRegression  \n",
    "from sklearn.metrics import r2_score, mean_squared_error  "
   ]
  },
  {
   "cell_type": "code",
   "execution_count": 196,
   "metadata": {},
   "outputs": [],
   "source": [
    "df = pd.read_csv('funding_test.csv')"
   ]
  },
  {
   "cell_type": "code",
   "execution_count": 197,
   "metadata": {},
   "outputs": [
    {
     "name": "stdout",
     "output_type": "stream",
     "text": [
      "  CountyName_x DistrictCode  FY22 _ Aid  Equalization\\nAid  \\\n",
      "0     Atlantic           10     4496684            4392923   \n",
      "1     Atlantic          110    72974722           78229856   \n",
      "2     Atlantic          120    14936746           16967403   \n",
      "3     Atlantic          570     1476536                  0   \n",
      "4     Atlantic          590    18348380           15751713   \n",
      "\n",
      "   Educational\\nAdequacy Aid  School\\nChoice Aid  Transportation\\nAid  \\\n",
      "0                          0                   0               343882   \n",
      "1                          0               86669              1390702   \n",
      "2                          0                   0                    0   \n",
      "3                          0                   0               496944   \n",
      "4                          0                   0               175973   \n",
      "\n",
      "   Special\\nEducation Aid  Security\\nAid  Adjustment\\nAid  ...  FY23 _Aid  \\\n",
      "0                  756476         261412                0  ...    5754693   \n",
      "1                 5620334        3248102          7482500  ...   96058163   \n",
      "2                 1417691         601522                0  ...   18986616   \n",
      "3                  423946         196809                0  ...    1117699   \n",
      "4                 1134901         556813                0  ...   17619400   \n",
      "\n",
      "   FY22_23_Aid\\nDifference  Aid Percent Difference  Test Subject District_Avg  \\\n",
      "0                  1258009                  27.98%   NaN     NaN          NaN   \n",
      "1                 23083441                  31.63%   NaN     NaN          NaN   \n",
      "2                  4049870                  27.11%   NaN     NaN          NaN   \n",
      "3                  -358837                 -24.30%   NaN     NaN          NaN   \n",
      "4                  -728980                  -3.97%   NaN     NaN          NaN   \n",
      "\n",
      "  State_avg  Benchmark  BT_PCT STATE_BT_PCT  \n",
      "0       NaN        NaN     NaN          NaN  \n",
      "1       NaN        NaN     NaN          NaN  \n",
      "2       NaN        NaN     NaN          NaN  \n",
      "3       NaN        NaN     NaN          NaN  \n",
      "4       NaN        NaN     NaN          NaN  \n",
      "\n",
      "[5 rows x 22 columns]\n",
      "         FY22 _ Aid  Equalization\\nAid  Educational\\nAdequacy Aid  \\\n",
      "count  2.265000e+03       2.265000e+03               2.265000e+03   \n",
      "mean   5.913588e+07       5.026327e+07               5.699995e+05   \n",
      "std    5.536570e+08       4.691653e+08               5.389963e+06   \n",
      "min    1.074200e+04       0.000000e+00               0.000000e+00   \n",
      "25%    2.738737e+06       0.000000e+00               0.000000e+00   \n",
      "50%    7.373863e+06       4.057996e+06               0.000000e+00   \n",
      "75%    2.035931e+07       1.696740e+07               0.000000e+00   \n",
      "max    9.269124e+09       7.830590e+09               8.239728e+07   \n",
      "\n",
      "       School\\nChoice Aid  Transportation\\nAid  Special\\nEducation Aid  \\\n",
      "count        2.265000e+03         2.265000e+03            2.265000e+03   \n",
      "mean         3.141083e+05         1.911923e+06            6.562601e+06   \n",
      "std          3.330506e+06         1.857324e+07            6.298145e+07   \n",
      "min          0.000000e+00         0.000000e+00            2.702000e+03   \n",
      "25%          0.000000e+00         1.502320e+05            9.352060e+05   \n",
      "50%          0.000000e+00         4.319100e+05            1.684020e+06   \n",
      "75%          0.000000e+00         1.020280e+06            3.427400e+06   \n",
      "max          5.574858e+07         3.132371e+08            1.062092e+09   \n",
      "\n",
      "       Security\\nAid  Adjustment\\nAid  \\\n",
      "count   2.265000e+03     2.265000e+03   \n",
      "mean    1.844233e+06     1.619688e+06   \n",
      "std     1.733882e+07     1.566266e+07   \n",
      "min     0.000000e+00     0.000000e+00   \n",
      "25%     8.613000e+04     0.000000e+00   \n",
      "50%     2.242380e+05     0.000000e+00   \n",
      "75%     6.908560e+05     0.000000e+00   \n",
      "max     2.907978e+08     2.575913e+08   \n",
      "\n",
      "       Vocational\\nExpansion\\nStabilization\\nAid  Military Impact\\nAid  \\\n",
      "count                               2.265000e+03          2.265000e+03   \n",
      "mean                                8.429526e+04          7.152029e+04   \n",
      "std                                 8.582618e+05          7.575125e+05   \n",
      "min                                 0.000000e+00          0.000000e+00   \n",
      "25%                                 0.000000e+00          0.000000e+00   \n",
      "50%                                 0.000000e+00          0.000000e+00   \n",
      "75%                                 0.000000e+00          0.000000e+00   \n",
      "max                                 1.320379e+07          1.118865e+07   \n",
      "\n",
      "          FY23 _Aid  FY22_23_Aid\\nDifference  District_Avg    State_avg  \\\n",
      "count  2.265000e+03             2.265000e+03   1462.000000  1928.000000   \n",
      "mean   6.324164e+07             4.105755e+06    339.424761   260.375000   \n",
      "std    5.925419e+08             3.945989e+07    234.427012   237.312968   \n",
      "min    6.164000e+03            -6.854027e+07     12.000000    24.000000   \n",
      "25%    2.861265e+06            -4.250000e+02     26.000000    24.000000   \n",
      "50%    7.579419e+06             4.142230e+05    451.000000   243.500000   \n",
      "75%    2.155563e+07             1.645184e+06    526.000000   480.750000   \n",
      "max    9.916846e+09             6.477224e+08    709.000000   533.000000   \n",
      "\n",
      "       STATE_BT_PCT  \n",
      "count   1928.000000  \n",
      "mean      59.250000  \n",
      "std       12.630132  \n",
      "min       35.000000  \n",
      "25%       54.000000  \n",
      "50%       61.000000  \n",
      "75%       66.250000  \n",
      "max       80.000000  \n"
     ]
    }
   ],
   "source": [
    "print(df.head())  \n",
    "print(df.describe())"
   ]
  },
  {
   "cell_type": "code",
   "execution_count": 198,
   "metadata": {},
   "outputs": [
    {
     "name": "stdout",
     "output_type": "stream",
     "text": [
      "Correlation between FY22 and District_Avg: -0.030830914714406944\n"
     ]
    }
   ],
   "source": [
    "correlation = df['FY22 _ Aid'].corr(df['District_Avg'])\n",
    "\n",
    "print(\"Correlation between FY22 and District_Avg:\", correlation)  "
   ]
  },
  {
   "cell_type": "code",
   "execution_count": 199,
   "metadata": {},
   "outputs": [
    {
     "name": "stdout",
     "output_type": "stream",
     "text": [
      "Correlation between FY23 and District_Avg: -0.030192809482577306\n"
     ]
    }
   ],
   "source": [
    "correlation1 = df['FY23 _Aid'].corr(df['District_Avg'])\n",
    "print(\"Correlation between FY23 and District_Avg:\", correlation1)   "
   ]
  },
  {
   "cell_type": "code",
   "execution_count": 200,
   "metadata": {},
   "outputs": [
    {
     "name": "stdout",
     "output_type": "stream",
     "text": [
      "Districts that met or exceeded the benchmark:\n",
      "      DistrictCode Test              Subject  State_avg District_Avg Benchmark\n",
      "3            110.0  ACT              English       24.0           21        18\n",
      "4            110.0  ACT              Reading       25.0           22        22\n",
      "7            110.0  SAT  Reading and Writing      533.0          509       480\n",
      "9            120.0  ACT              Science       24.0            N        23\n",
      "10           120.0  ACT              Reading       25.0            N        22\n",
      "...            ...  ...                  ...        ...          ...       ...\n",
      "2569        5460.0  ACT              English       24.0            N        18\n",
      "2570        5460.0  ACT                 Math       24.0            N        22\n",
      "2574        5460.0  SAT  Reading and Writing      533.0          510       480\n",
      "2581        5465.0  SAT                 Math      525.0          532       530\n",
      "2582        5465.0  SAT  Reading and Writing      533.0          559       480\n",
      "\n",
      "[1019 rows x 6 columns]\n"
     ]
    }
   ],
   "source": [
    "districts_meeting_benchmark = funding_test[funding_test['District_Avg'] >= funding_test['Benchmark']]  \n",
    "print(\"Districts that met or exceeded the benchmark:\")  \n",
    "print(districts_meeting_benchmark[['DistrictCode', 'Test', 'Subject', 'State_avg', 'District_Avg', 'Benchmark']]) "
   ]
  },
  {
   "cell_type": "code",
   "execution_count": 201,
   "metadata": {},
   "outputs": [
    {
     "name": "stdout",
     "output_type": "stream",
     "text": [
      "Districts that fell below the benchmark:\n",
      "      DistrictCode  Test              Subject District_Avg  State_avg  \\\n",
      "1            110.0   ACT              Science           20       24.0   \n",
      "2            110.0   ACT                 Math           21       24.0   \n",
      "5            110.0  PSAT  Reading and Writing          403      466.0   \n",
      "6            110.0  PSAT                 Math          411      462.0   \n",
      "8            110.0   SAT                 Math          511      525.0   \n",
      "...            ...   ...                  ...          ...        ...   \n",
      "2576        5465.0   ACT                 Math            *       24.0   \n",
      "2577        5465.0   ACT              Reading            *       25.0   \n",
      "2578        5465.0   ACT              Science            *       24.0   \n",
      "2579        5465.0  PSAT                 Math          498      462.0   \n",
      "2580        5465.0  PSAT  Reading and Writing          531      466.0   \n",
      "\n",
      "                        Benchmark  \n",
      "1                              23  \n",
      "2                              22  \n",
      "5     Grade 10: 430 Grade 11: 460  \n",
      "6     Grade 10: 480 Grade 11: 510  \n",
      "8                             530  \n",
      "...                           ...  \n",
      "2576                           22  \n",
      "2577                           22  \n",
      "2578                           23  \n",
      "2579  Grade 10: 480 Grade 11: 510  \n",
      "2580  Grade 10: 430 Grade 11: 460  \n",
      "\n",
      "[1277 rows x 6 columns]\n"
     ]
    }
   ],
   "source": [
    "districts_below_benchmark = funding_test[funding_test['District_Avg'] < funding_test['Benchmark']]  \n",
    "print(\"Districts that fell below the benchmark:\")  \n",
    "print(districts_below_benchmark[['DistrictCode', 'Test', 'Subject', 'District_Avg', 'State_avg', 'Benchmark']]) "
   ]
  },
  {
   "cell_type": "code",
   "execution_count": 202,
   "metadata": {},
   "outputs": [],
   "source": [
    "# For example, before subtraction, ensure that the columns are numeric:  \n",
    "funding_test['District_Avg'] = pd.to_numeric(funding_test['District_Avg'], errors='coerce')  \n",
    "funding_test['Benchmark'] = pd.to_numeric(funding_test['Benchmark'], errors='coerce')  \n",
    "  \n",
    "# Now you can compute the performance gap safely:  \n",
    "funding_test['Performance_Gap'] = funding_test['District_Avg'] - funding_test['Benchmark']  "
   ]
  },
  {
   "cell_type": "code",
   "execution_count": 203,
   "metadata": {},
   "outputs": [
    {
     "name": "stdout",
     "output_type": "stream",
     "text": [
      "Performance Summary:\n",
      "Total Districts Analyzed: 2586\n",
      "Districts Meeting or Exceeding Benchmark: 895 (34.6%)\n",
      "Districts Below Benchmark: 1277 (65.4%)\n",
      "\n",
      "Average Performance Gaps:\n",
      "Above Benchmark: +33.4 points\n",
      "Below Benchmark: -34.64 points\n"
     ]
    },
    {
     "data": {
      "image/png": "[encoded data removed]",
      "text/plain": [
       "<Figure size 900x600 with 1 Axes>"
      ]
     },
     "metadata": {},
     "output_type": "display_data"
    }
   ],
   "source": [
    "import pandas as pd  \n",
    "import numpy as np  \n",
    "import matplotlib.pyplot as plt  \n",
    "import seaborn as sns  \n",
    "  \n",
    "# Ensure that the funding_test dataframe is available.  \n",
    "# It should be the result of merging qthe relevant funding and performance data.   \n",
    "try:\n",
    "\n",
    "    districts_meeting_benchmark = funding_test[funding_test['District_Avg'] >= funding_test['Benchmark']]      \n",
    "    \n",
    "    \n",
    "    # Calculate performance metrics  \n",
    "    total_districts = len(funding_test)  \n",
    "    districts_above = len(districts_meeting_benchmark)  \n",
    "    districts_below = len(districts_below_benchmark)  \n",
    "    pct_above = (districts_above / total_districts) * 100  \n",
    "  \n",
    "    # Compute performance gap for each district  \n",
    "    funding_test['Performance_Gap'] = funding_test['District_Avg'] - funding_test['Benchmark']  \n",
    "      \n",
    "    # Calculate the average gap separately for those above and below the benchmark  \n",
    "    avg_gap_above = funding_test[funding_test['Performance_Gap'] > 0]['Performance_Gap'].mean()  \n",
    "    avg_gap_below = funding_test[funding_test['Performance_Gap'] < 0]['Performance_Gap'].mean()\n",
    "\n",
    "     # Print the summary statistics  \n",
    "    print(\"Performance Summary:\")  \n",
    "    print(\"Total Districts Analyzed: \" + str(total_districts))  \n",
    "    print(\"Districts Meeting or Exceeding Benchmark: \" + str(districts_above) + \" (\" + str(round(pct_above, 1)) + \"%)\")  \n",
    "    print(\"Districts Below Benchmark: \" + str(districts_below) + \" (\" + str(round(100 - pct_above, 1)) + \"%)\")  \n",
    "    print(\"\")  \n",
    "    print(\"Average Performance Gaps:\")  \n",
    "    print(\"Above Benchmark: +\" + str(round(avg_gap_above, 2)) + \" points\")  \n",
    "    print(\"Below Benchmark: \" + str(round(avg_gap_below, 2)) + \" points\")  \n",
    "      \n",
    "    # Create a histogram visualization of the performance gaps  \n",
    "    plt.figure(figsize=(9, 6))  \n",
    "    sns.histplot(data=funding_test, x='Performance_Gap', bins=30, color='#766CDB')  \n",
    "    plt.axvline(x=0, color='#DA847C', linestyle='--', label='Benchmark')  \n",
    "    plt.title('Distribution of District Performance vs Benchmark', pad=15, fontsize=20, fontweight='semibold', color='#222222')  \n",
    "    plt.xlabel('Performance Gap (District Avg - Benchmark)', labelpad=10, fontsize=16, color='#333333')  \n",
    "    plt.ylabel('Number of Districts', labelpad=10, fontsize=16, color='#333333')  \n",
    "    plt.grid(True, alpha=0.3)  \n",
    "    plt.legend(fontsize=12)  \n",
    "    plt.tight_layout()  \n",
    "    plt.show()  \n",
    "      \n",
    "except NameError:  \n",
    "    print(\"Error: funding_test dataframe not found. Please ensure the data is loaded and merged correctly.\")   "
   ]
  },
  {
   "cell_type": "code",
   "execution_count": 204,
   "metadata": {},
   "outputs": [
    {
     "name": "stdout",
     "output_type": "stream",
     "text": [
      "<class 'pandas.core.frame.DataFrame'>\n",
      "RangeIndex: 2586 entries, 0 to 2585\n",
      "Data columns (total 23 columns):\n",
      " #   Column                                Non-Null Count  Dtype  \n",
      "---  ------                                --------------  -----  \n",
      " 0   CountyName                            2586 non-null   object \n",
      " 1   DistrictCode                          2586 non-null   float64\n",
      " 2   FY22                                  2586 non-null   object \n",
      " 3   Equalization_Aid                      2586 non-null   object \n",
      " 4   EducationalAdequacy_Aid               2586 non-null   object \n",
      " 5   SchoolChoice_Aid                      2586 non-null   object \n",
      " 6   Transportation_Aid                    2586 non-null   object \n",
      " 7   SpecialEducation_Aid                  2586 non-null   object \n",
      " 8   Security_Aid                          2586 non-null   object \n",
      " 9   Adjustment_Aid                        2586 non-null   object \n",
      " 10  VocationalExpansionStabilization_Aid  2586 non-null   object \n",
      " 11  MilitaryImpact_Aid                    2586 non-null   object \n",
      " 12  FY23                                  2586 non-null   object \n",
      " 13  FY22_FY23Diff                         2586 non-null   object \n",
      " 14  Aid_Percent_Difference                2586 non-null   object \n",
      " 15  Test                                  2296 non-null   object \n",
      " 16  Subject                               2296 non-null   object \n",
      " 17  District_Avg                          1712 non-null   float64\n",
      " 18  State_avg                             2296 non-null   float64\n",
      " 19  Benchmark                             1722 non-null   float64\n",
      " 20  BT_PCT                                2296 non-null   object \n",
      " 21  STATE_BT_PCT                          2296 non-null   float64\n",
      " 22  Performance_Gap                       1140 non-null   float64\n",
      "dtypes: float64(6), object(17)\n",
      "memory usage: 464.8+ KB\n"
     ]
    }
   ],
   "source": [
    "funding_test.info()"
   ]
  },
  {
   "cell_type": "code",
   "execution_count": 205,
   "metadata": {},
   "outputs": [],
   "source": [
    "# Convert columns to numeric, coercing errors to NaN\n",
    "cols = [\n",
    "    'Equalization_Aid', 'EducationalAdequacy_Aid', 'SchoolChoice_Aid',\n",
    "    'Transportation_Aid', 'SpecialEducation_Aid', 'Security_Aid',\n",
    "    'Adjustment_Aid', 'VocationalExpansionStabilization_Aid',\n",
    "    'MilitaryImpact_Aid'\n",
    "]"
   ]
  },
  {
   "cell_type": "code",
   "execution_count": 206,
   "metadata": {},
   "outputs": [],
   "source": [
    "# Convert specified columns to numeric and replace NaN with 0\n",
    "funding_test[cols] = funding_test[cols].apply(pd.to_numeric, errors='coerce').fillna(0)\n",
    "\n",
    "funding_test['State_avg'] = funding_test['State_avg'].apply(pd.to_numeric, errors='coerce').fillna(0)\n",
    "\n",
    "# Remove colons if needed (assuming original data was strings with colons)\n",
    "funding_test[cols] = funding_test[cols].astype(str).apply(lambda x: x.str.replace(':', '', regex=False))"
   ]
  },
  {
   "cell_type": "code",
   "execution_count": 207,
   "metadata": {},
   "outputs": [],
   "source": [
    "from sklearn.model_selection import train_test_split\n",
    "from sklearn.metrics import mean_squared_error\n",
    "from sklearn.metrics import r2_score\n",
    "\n",
    "trainX, testX, trainY, testY = train_test_split(\n",
    "    funding_test[['MilitaryImpact_Aid','VocationalExpansionStabilization_Aid','Adjustment_Aid']], funding_test['State_avg'], test_size=0.25, random_state=42)"
   ]
  },
  {
   "cell_type": "code",
   "execution_count": 208,
   "metadata": {},
   "outputs": [
    {
     "name": "stdout",
     "output_type": "stream",
     "text": [
      "\n",
      "LinearRegression  Performance Metric:\n",
      "Mean Squared Error Score: 56926.70276551063\n",
      "R² Score: 6.389361385783499e-05\n"
     ]
    }
   ],
   "source": [
    "from sklearn.linear_model import LinearRegression\n",
    "# Instantiate the classifier\n",
    "lr = LinearRegression()\n",
    "\n",
    "# Train the classifier\n",
    "lr.fit(trainX, trainY)\n",
    "\n",
    "# Make predictions on the test set\n",
    "lr_pred = lr.predict(testX)\n",
    "\n",
    "mse_lr = mean_squared_error(testY, lr_pred)\n",
    "r2 = r2_score(testY, lr_pred)\n",
    "\n",
    "\n",
    "# Report the evaluation metric\n",
    "print(\"\\nLinearRegression  Performance Metric:\")\n",
    "print(\"Mean Squared Error Score:\", mse_lr)\n",
    "print(\"R² Score:\", r2)\n"
   ]
  },
  {
   "cell_type": "code",
   "execution_count": 209,
   "metadata": {},
   "outputs": [
    {
     "name": "stdout",
     "output_type": "stream",
     "text": [
      "\n",
      "Random Forest Performance Metric:\n",
      "Mean Squared Error Score: 56924.55441082459\n",
      "R² Score: 0.00010163016481778975\n"
     ]
    }
   ],
   "source": [
    "from sklearn.ensemble import RandomForestRegressor\n",
    "# Instantiate the classifier\n",
    "rf = RandomForestRegressor()\n",
    "\n",
    "# Train the classifier\n",
    "rf.fit(trainX, trainY)\n",
    "\n",
    "# Make predictions on the test set\n",
    "rf_pred = rf.predict(testX)\n",
    "\n",
    "mse_rf = mean_squared_error(testY, rf_pred)\n",
    "r2_rf = r2_score(testY, rf_pred)\n",
    "\n",
    "\n",
    "# Report the evaluation metric\n",
    "print(\"\\nRandom Forest Performance Metric:\")\n",
    "print(\"Mean Squared Error Score:\", mse_rf)\n",
    "print(\"R² Score:\", r2_rf)"
   ]
  },
  {
   "cell_type": "code",
   "execution_count": 210,
   "metadata": {},
   "outputs": [
    {
     "name": "stdout",
     "output_type": "stream",
     "text": [
      "\n",
      "Gradient Boost Regressor Metric:\n",
      "Mean Squared Error Score: 56926.70285428588\n",
      "R² Score: 6.389205449153224e-05\n"
     ]
    }
   ],
   "source": [
    "from sklearn.ensemble import GradientBoostingRegressor\n",
    "\n",
    "# Instantiate the classifier\n",
    "gbr = GradientBoostingRegressor(n_estimators=100, learning_rate=0.1, random_state=42)\n",
    "\n",
    "gbr.fit(trainX, trainY)\n",
    "\n",
    "gbr_pred = gbr.predict(testX)\n",
    "\n",
    "mse_gbr = mean_squared_error(testY, gbr_pred)\n",
    "r2_gbr = r2_score(testY, gbr_pred)\n",
    "\n",
    "\n",
    "# Report the evaluation metric\n",
    "print(\"\\nGradient Boost Regressor Metric:\")\n",
    "print(\"Mean Squared Error Score:\", mse_gbr)\n",
    "print(\"R² Score:\", r2_gbr)\n"
   ]
  },
  {
   "cell_type": "code",
   "execution_count": 211,
   "metadata": {},
   "outputs": [],
   "source": [
    "#Links: https://www.nj.gov/education/stateaid/\n",
    "#Links: https://www.njschooldata.org/download\n"
   ]
  },
  {
   "cell_type": "code",
   "execution_count": 212,
   "metadata": {},
   "outputs": [
    {
     "name": "stdout",
     "output_type": "stream",
     "text": [
      "<class 'pandas.core.frame.DataFrame'>\n",
      "RangeIndex: 1884 entries, 0 to 1883\n",
      "Data columns (total 6 columns):\n",
      " #   Column                   Non-Null Count  Dtype  \n",
      "---  ------                   --------------  -----  \n",
      " 0   CountyName               1884 non-null   object \n",
      " 1   DistrictCode             1884 non-null   float64\n",
      " 2   CohortYear               1884 non-null   float64\n",
      " 3   GraduationRateType       1884 non-null   object \n",
      " 4   GraduationRate           1884 non-null   object \n",
      " 5   StatewideGraduationRate  1884 non-null   float64\n",
      "dtypes: float64(3), object(3)\n",
      "memory usage: 88.4+ KB\n"
     ]
    }
   ],
   "source": [
    "df_grad.info()"
   ]
  },
  {
   "cell_type": "code",
   "execution_count": 213,
   "metadata": {},
   "outputs": [],
   "source": [
    "import numpy as np\n",
    "df_grad['GraduationRate'] = df_grad['GraduationRate'].replace(['N', '*'], np.nan).astype(float)\n",
    "df_grad['StatewideGraduationRate'] = df_grad['StatewideGraduationRate'].replace(['N', '*'], np.nan).astype(float)"
   ]
  },
  {
   "cell_type": "code",
   "execution_count": 214,
   "metadata": {},
   "outputs": [
    {
     "name": "stdout",
     "output_type": "stream",
     "text": [
      "<class 'pandas.core.frame.DataFrame'>\n",
      "RangeIndex: 1884 entries, 0 to 1883\n",
      "Data columns (total 6 columns):\n",
      " #   Column                   Non-Null Count  Dtype  \n",
      "---  ------                   --------------  -----  \n",
      " 0   CountyName               1884 non-null   object \n",
      " 1   DistrictCode             1884 non-null   float64\n",
      " 2   CohortYear               1884 non-null   float64\n",
      " 3   GraduationRateType       1884 non-null   object \n",
      " 4   GraduationRate           1873 non-null   float64\n",
      " 5   StatewideGraduationRate  1884 non-null   float64\n",
      "dtypes: float64(4), object(2)\n",
      "memory usage: 88.4+ KB\n"
     ]
    }
   ],
   "source": [
    "df_grad.info()\n"
   ]
  },
  {
   "cell_type": "code",
   "execution_count": 215,
   "metadata": {},
   "outputs": [
    {
     "name": "stdout",
     "output_type": "stream",
     "text": [
      "Requirement already satisfied: openpyxl in c:\\users\\eddyk\\appdata\\local\\packages\\pythonsoftwarefoundation.python.3.11_qbz5n2kfra8p0\\localcache\\local-packages\\python311\\site-packages (3.1.5)\n",
      "Requirement already satisfied: et-xmlfile in c:\\users\\eddyk\\appdata\\local\\packages\\pythonsoftwarefoundation.python.3.11_qbz5n2kfra8p0\\localcache\\local-packages\\python311\\site-packages (from openpyxl) (2.0.0)\n"
     ]
    },
    {
     "name": "stderr",
     "output_type": "stream",
     "text": [
      "\n",
      "[notice] A new release of pip is available: 25.0.1 -> 25.1.1\n",
      "[notice] To update, run: C:\\Users\\eddyk\\AppData\\Local\\Microsoft\\WindowsApps\\PythonSoftwareFoundation.Python.3.11_qbz5n2kfra8p0\\python.exe -m pip install --upgrade pip\n"
     ]
    }
   ],
   "source": [
    "!pip install openpyxl\n"
   ]
  },
  {
   "cell_type": "code",
   "execution_count": 218,
   "metadata": {},
   "outputs": [],
   "source": [
    "import numpy as np\n",
    "df_test['District_Avg'] = df_test['District_Avg'].replace(['N', '*'], np.nan).astype(float)\n",
    "df_test['State_avg'] = df_test['State_avg'].replace(['N', '*'], np.nan).astype(float)"
   ]
  },
  {
   "cell_type": "code",
   "execution_count": 219,
   "metadata": {},
   "outputs": [],
   "source": [
    "df_test.to_excel(\"StateTest.xlsx\", index=False)\n"
   ]
  },
  {
   "cell_type": "code",
   "execution_count": 221,
   "metadata": {},
   "outputs": [
    {
     "name": "stdout",
     "output_type": "stream",
     "text": [
      "<class 'pandas.core.frame.DataFrame'>\n",
      "RangeIndex: 667 entries, 0 to 666\n",
      "Data columns (total 8 columns):\n",
      " #   Column                                    Non-Null Count  Dtype \n",
      "---  ------                                    --------------  ----- \n",
      " 0   CountyName                                667 non-null    object\n",
      " 1   DistrictCode                              667 non-null    int64 \n",
      " 2   Violence                                  667 non-null    int64 \n",
      " 3   Weapons                                   667 non-null    int64 \n",
      " 4   Vandalism                                 667 non-null    int64 \n",
      " 5   Substances                                667 non-null    int64 \n",
      " 6   Harassment, Intimidation, Bullying (HIB)  667 non-null    int64 \n",
      " 7   Other Incidents                           667 non-null    int64 \n",
      "dtypes: int64(7), object(1)\n",
      "memory usage: 41.8+ KB\n"
     ]
    }
   ],
   "source": [
    "df_pr = pd.read_csv('PoliceR.csv')\n",
    "df_pr.info()"
   ]
  },
  {
   "cell_type": "code",
   "execution_count": 223,
   "metadata": {},
   "outputs": [],
   "source": [
    "df_pr['Violence'] = df_pr['Violence'].replace(['N', '*'], np.nan).astype(float)\n",
    "df_pr['Weapons'] = df_pr['Weapons'].replace(['N', '*'], np.nan).astype(float)\n",
    "df_pr['Vandalism'] = df_pr['Vandalism'].replace(['N', '*'], np.nan).astype(float)\n",
    "df_pr['Substances'] = df_pr['Substances'].replace(['N', '*'], np.nan).astype(float)\n",
    "df_pr['Harassment, Intimidation, Bullying (HIB)'] = df_pr['Harassment, Intimidation, Bullying (HIB)'].replace(['N', '*'], np.nan).astype(float)\n",
    "df_pr['Other Incidents'] = df_pr['Other Incidents'].replace(['N', '*'], np.nan).astype(float)\n"
   ]
  },
  {
   "cell_type": "code",
   "execution_count": 224,
   "metadata": {},
   "outputs": [
    {
     "name": "stdout",
     "output_type": "stream",
     "text": [
      "<class 'pandas.core.frame.DataFrame'>\n",
      "RangeIndex: 667 entries, 0 to 666\n",
      "Data columns (total 8 columns):\n",
      " #   Column                                    Non-Null Count  Dtype  \n",
      "---  ------                                    --------------  -----  \n",
      " 0   CountyName                                667 non-null    object \n",
      " 1   DistrictCode                              667 non-null    int64  \n",
      " 2   Violence                                  667 non-null    float64\n",
      " 3   Weapons                                   667 non-null    float64\n",
      " 4   Vandalism                                 667 non-null    float64\n",
      " 5   Substances                                667 non-null    float64\n",
      " 6   Harassment, Intimidation, Bullying (HIB)  667 non-null    float64\n",
      " 7   Other Incidents                           667 non-null    float64\n",
      "dtypes: float64(6), int64(1), object(1)\n",
      "memory usage: 41.8+ KB\n"
     ]
    }
   ],
   "source": [
    "df_pr.info()"
   ]
  },
  {
   "cell_type": "code",
   "execution_count": 225,
   "metadata": {},
   "outputs": [],
   "source": [
    "df_pr.to_excel(\"PoliceReport.xlsx\", index=False)\n"
   ]
  }
 ],
 "metadata": {
  "kernelspec": {
   "display_name": "Python 3",
   "language": "python",
   "name": "python3"
  },
  "language_info": {
   "codemirror_mode": {
    "name": "ipython",
    "version": 3
   },
   "file_extension": ".py",
   "mimetype": "text/x-python",
   "name": "python",
   "nbconvert_exporter": "python",
   "pygments_lexer": "ipython3",
   "version": "3.11.9"
  }
 },
 "nbformat": 4,
 "nbformat_minor": 2
}
